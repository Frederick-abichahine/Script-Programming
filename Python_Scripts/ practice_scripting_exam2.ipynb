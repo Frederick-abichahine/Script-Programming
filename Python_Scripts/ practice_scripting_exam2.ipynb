{
 "cells": [
  {
   "cell_type": "markdown",
   "metadata": {},
   "source": [
    "# Scripting Exam 2 - Practice"
   ]
  },
  {
   "cell_type": "code",
   "execution_count": 1,
   "metadata": {},
   "outputs": [
    {
     "name": "stdout",
     "output_type": "stream",
     "text": [
      "yes : no\n"
     ]
    }
   ],
   "source": [
    "dic= {\"hello\":\"bye\", \"yes\":\"no\", \"today\": \"yesterday\"}\n",
    "for x in dic:\n",
    "    if x==\"yes\":\n",
    "        print (x, \":\", dic[x])"
   ]
  },
  {
   "cell_type": "code",
   "execution_count": 7,
   "metadata": {},
   "outputs": [
    {
     "name": "stdout",
     "output_type": "stream",
     "text": [
      "yes : no\n"
     ]
    }
   ],
   "source": [
    "dic= {\"hello\":\"bye\", \"yes\":\"no\", \"today\": \"yesterday\"}\n",
    "\n",
    "for key,val in dic.items():\n",
    "    if val==\"no\":\n",
    "        print(key, \":\", val)"
   ]
  },
  {
   "cell_type": "markdown",
   "metadata": {},
   "source": [
    "1) Read a fasta file (FPexcerpt.fta) and define a dictionary where the key is the ID after the >, and the value is the entire sequence"
   ]
  },
  {
   "cell_type": "code",
   "execution_count": 166,
   "metadata": {},
   "outputs": [
    {
     "name": "stdout",
     "output_type": "stream",
     "text": [
      "Anthomed : MAEYFEKPLPYKVELEGDVDGQKFTVIGEGQGDASTGRVEGKYVCTKGEVPISWVSLITSLSYGGKCFVRYPNVIKDFFKSTFPTGYHQERKITYEDDGVLETAAKVTLESGAIYNRISVKGVGFKKDGNVCKKRLHSSPPQVSYVVPYGEGIRVLYSNIYPTKDGGYVVADTRQVNRPIKAEGKSAIPKYHYIKSKIDLSTDPNERKDHIIIKEVNVASGIDFS\n",
      "\n",
      "Avictoria : MSKGEELFTGVVPILVELDGDVNGQKFSVRGEGEGDATYGKLTLKFICTTGKLPVPWPTLVTTFSYGVQCFSRYPDHMKQHDFLKSAMPEGYVQERTIFYKDDGNYKTRAEVKFEGDTLVNRIELKGIDFKEDGNILGHKMEYNYNSHNVYIMGDKPKNGIKVNFKIRHNIKDGSVQLADHYQQNTPIGDGPVLLPDNHYLSTQSALSQDPHGKRDHMVLLEFVTSAGITHGMDELYK\n",
      "\n",
      "Pontella : MPDMKLECHISGTMNGEEFELIGSGDGNTDQGRMTNNMKSIKGPLSFSPYLLSHILGYGYYHFATFPAGYENIYLHAMKNGGYSNVRTERYEDGGIISITFNYRYEGSKIIGDFKVIGTGFPTDSLIFTDKIIKSNPTCENMFPKADNILVNAYTRTYLLKDGGYYSAQVNNHMHFKSAIHPTMLQNGGSMFTHRVVEENHTKTNVAIVEYQNVFKTPTAF\n",
      "\n",
      "ceriOFP : MNLSKNVSVSVYMKGNVNNHEFEYDGEGGGDPYTGKYSMKMTLRGQNCLPFSYDIITTAFQYGFRVFTKYPEGIVDYFKDSLPDAFQWNRRIVFEDGGVLNMSSDITYKDNVLHGDVWAVGVNFPPNGPVMKNEIVMEEPTEETFTPKNGVLVGFCPKAYLLKDGSYYYGNMTTFYRSKKSGQAPPGYHFVKHRLVKTNVGHGFKTVEQTEYATAHVSDLPK\n",
      "\n",
      "rrenGFP : MDLAKLGLKEVMPTKINLEGLVGDHAFSMEGVGEGNILEGTQEVKISVTKGAPLPFAFDIVSVAFSYGNRAYTGYPEEISDYFLQSFPEGFTYERNIRYQDGGTAIVKSDISLEDGKFIVNVDFKAKDLRRMGPVMQQDIVGMQPSYESMYTNVTSVIGECIIAFKLQTGKHFTYHMRTVYKSKKPVETMPLYHFIQHRLVKTNVDTASGYVVQHETAIAAH\n",
      "\n",
      "ptilGFP : MNRNVLKNTGLKEIMSAKASVEGIVNNHVFSMEGFGKGNVLFGNQLMQIRVTKGGPLPFAFDIVSIAFQYGNRTFTKYPDDIADYFVQSFPAGFFYERNLRFEDGAIVDIRSDISLEDDKFHYKVEYRGNGFPSNGPVMQKAILGMEPSFEVVYMNSGVLVGEVDLVYKLESGNYYSCHMKTFYRSKGGVKEFPEYHFIHHRLEKTYVEEGSFVEQHETAIAQX\n",
      "\n",
      "discRFP : MRSSKNVIKEFMRFKVRMEGTVNGHEFEIEGEGEGRPYEGHNTVKLKVTKGGPLPFAWDILSPQFQYGSKVYVKHPADIPDYKKLSFPEGFKWERVMNFEDGGVVTVTQDSSLQDGCFIYKVKFIGVNFPSDGPVMQKKTMGWEASTERLYPRDGVLKGEIHKALKLKDGGHYLVEFKSIYMAKKPVQLPGYYYVDSKLDITSHNEDYTIVEQYERTEGRHHLFX\n",
      "\n",
      "ccalYFP1 : MSHSKQVITQEMKMVYHMDGCVNGHSFTIEGEGTGKPYEGNQTLKLRVTKGGPLPFAFDILTATFCYGNRCFCEYPEDMPDYYKQSFPEGYSFERTMMFEDGACCTTSVHLSLTKNCFVHNSTFHGVNFPANGPVMQKKTLNWEPSSEKITPFEGNLKGDVTMFLKLEGGQQHRCQFQTTYKAHKAVKMPPNHIIEHRLVRSQDGDAVQLKEHAVAKCFTA\n",
      "\n",
      "ccalRFP1 : MSLSKQVLPRDVKMRYHMDGCVNGHQFIIEGEGTGKPYEGKKILELRVTKGGPLPFAFDILSSVFTYGNRCFCEYPEDMPDYFKQSLPEGHSWERTLMFEDGGCGTASAHISLDKNCFVHKSTFHGVNFPANGPVMQKKTLNWEPSSELITAGDGILKGDVTMFLMLEGGHRLKCQFTTSYKAKKAVKMPPNHIIEHRLVRKEVADAVQIQEHAVAKHFIV\n",
      "\n",
      "rfloRFP : MSALKEEMKIXLTLVGVVNGHPFKIIGDGKGKPYEGSQELTLAVVEGGPLPFSYDILTTIVHYGNRAFVNYPKDIPDIFKQTCSGPGAGYSWQRTMSFEDGGVCTATSHIRVDGDTFNYDIHFMGADFPLNGPVMQKRTVKWEPSTEIMFQCDGLLRGDVAMSLLLKGGGHYRCDFKTIYKPKKNVKMPGYHFVDHCIEITSQQDDYNVVELYEGAVAHYSPLQKPCQAK\n",
      "\n",
      "rfloGFP : MSALKEEMKIKLKMVGVVNGQSFQIDGEGKGKPYEGSQKLTLEVVEGGPLLFSYDILTTIFQYGNRAFVNYPKDIPDIFKQTCSGPDGGFSWQRTMTYEDGGVCTASNHISVDGDTFYYVIRFNGENFPPNGPVMQKRTVKWEPSTEIMFERDGLLRGDIAMSLLLKGGGHYRCDFKTIYTPKRKVNMPGYHFVDHCIEIQKHDKDYNMAVLSX\n",
      "\n",
      "BfloGFP : DXVLLMSLPTTHDLHIFGSVNGAEFDLVGGGKGNPNDGTLETSVKSTRGALPCSPLLIGPNLGYGFYQYLPFPGGASPFQTAITDGGYQVHRVFKFEDGGVLSCNFRYTYEGGKIKGEFQLIGSGFPAGGPVMSGGLTTLDRSVAKLQCSDDCTITGTNNWSFCTTDGKRHQADVQTNYTFAKPLPAGLKEKMPIFLGHQIEVKASKTEITLSEKVKAFIDTV\n",
      "\n"
     ]
    }
   ],
   "source": [
    "f= open(\"FPexcerpt.fta\")\n",
    "dic_fp= {}\n",
    "name= []\n",
    "seq= []\n",
    "temp_seq= \"\"\n",
    "count= 0\n",
    "\n",
    "for x in f:\n",
    "    t= x\n",
    "    if t[0]=='>' and count==0:\n",
    "        count+=1\n",
    "        t= \"\".join(t.strip())\n",
    "        name.append(t[1:])\n",
    "    elif t[0]=='>' and count>0:\n",
    "        seq.append(temp_seq)\n",
    "        temp_seq= \"\"\n",
    "        t= \"\".join(t.strip())\n",
    "        name.append(t[1:])\n",
    "    else:\n",
    "        for y in t:\n",
    "            if (y!=' ' and y!='\\n' and y!='-'):\n",
    "                temp_seq+=y\n",
    "        #temp_seq= \"\".join(temp_seq.strip())\n",
    "        #temp_seq= \"\".join(temp_seq.strip(' '))\n",
    "        #temp_seq= \"\".join(temp_seq.strip('-'))\n",
    "seq.append(temp_seq)\n",
    "#print(len(name))\n",
    "#print(len(seq))\n",
    "#print(name)\n",
    "#print(seq)\n",
    "for i in range(len(name)):\n",
    "    dic_fp[name[i]]= seq[i]\n",
    "    print(name[i], \":\", seq[i])\n",
    "    print()\n",
    "    \n",
    "#print(dic_fp2)"
   ]
  },
  {
   "cell_type": "markdown",
   "metadata": {},
   "source": [
    "1. Write a Python program to check whether three given lengths (integers) of three sides form a right triangle. Print \"Yes\" if the given sides form a right triangle otherwise print \"No\"."
   ]
  },
  {
   "cell_type": "code",
   "execution_count": 63,
   "metadata": {},
   "outputs": [
    {
     "name": "stdout",
     "output_type": "stream",
     "text": [
      "Enter length of first side of triangle: 4\n",
      "Enter length of second side of triangle: 3\n",
      "Enter length of third side of triangle: 5\n",
      "Yes. Right Triangle.\n"
     ]
    }
   ],
   "source": [
    "l1 = eval(input(\"Enter length of first side of triangle: \"))\n",
    "l2 = eval(input(\"Enter length of second side of triangle: \"))\n",
    "l3 = eval(input(\"Enter length of third side of triangle: \"))\n",
    "\n",
    "if (l1<1 or l2<1 or l3<1):\n",
    "    print(\"Invalid side lengths.\")\n",
    "elif (l1**2 == l2**2 + l3**2):\n",
    "    print(\"Yes. Right Triangle.\")\n",
    "elif (l2**2 == l1**2 + l3**2):\n",
    "    print(\"Yes. Right Triangle.\")\n",
    "elif (l3**2 == l2**2 + l1**2):\n",
    "    print(\"Yes. Right Triangle.\")\n",
    "else:\n",
    "    print(\"No. Not Right Triangle.\")"
   ]
  },
  {
   "cell_type": "markdown",
   "metadata": {},
   "source": [
    "2. Write a Python program to check the validity of a password (input from users).\n",
    "Validation :\n",
    "At least 1 letter between [a-z] and 1 letter between [A-Z].\n",
    "At least 1 number between [0-9].\n",
    "At least 1 character from [$#@].\n",
    "Minimum length 6 characters.\n",
    "Maximum length 16 characters."
   ]
  },
  {
   "cell_type": "code",
   "execution_count": 71,
   "metadata": {},
   "outputs": [
    {
     "name": "stdout",
     "output_type": "stream",
     "text": [
      "Enter password: 123abc123yoYOidsA\n",
      "Password Not Valid.\n"
     ]
    }
   ],
   "source": [
    "password= input(\"Enter password: \")\n",
    "upper_counter= 0\n",
    "lower_counter= 0\n",
    "num_counter= 0\n",
    "\n",
    "for x in password:\n",
    "    if (x>='A' and x<='Z'):\n",
    "        upper_counter+=1\n",
    "    elif (x>='a' and x<='z'):\n",
    "        lower_counter+=1\n",
    "    elif (x>='0' and x<='9'):\n",
    "        num_counter+=1\n",
    "\n",
    "if ( (upper_counter>0) and (lower_counter>0) and (num_counter>0) and (len(password)>=6) and (len(password)<=16)):\n",
    "    print(\"Password Valid.\")\n",
    "else:\n",
    "    print(\"Password Not Valid.\")"
   ]
  },
  {
   "cell_type": "markdown",
   "metadata": {},
   "source": [
    "3. The file series.txt includes some series with their year of release separated by a tab. However, some lines are found more than once but reversed (ex: line 1: Game of Thrones\t2011, line 4: 2011\tGame of Thrones). These lines are considered duplicates. Read the file series.txt and print only the unique series."
   ]
  },
  {
   "cell_type": "code",
   "execution_count": 131,
   "metadata": {},
   "outputs": [
    {
     "name": "stdout",
     "output_type": "stream",
     "text": [
      "Grey'sAnatomy : 2005\n",
      "GameofThrones : 2011\n",
      "Euphoria : 2019\n",
      "Brooklyn99 : 2013\n",
      "KillingEve : 2018\n",
      "ParksandRecreation : 2009\n",
      "Friends : 1994\n",
      "StrangerThings : 2016\n"
     ]
    }
   ],
   "source": [
    "f= open(\"series.txt\")\n",
    "dic= {}\n",
    "\n",
    "for x in f:\n",
    "    x= x.split('\\t')\n",
    "    #print(x)\n",
    "    string= x[0]\n",
    "    #print(string)\n",
    "    if string[0]>='0' and string[0]<='9':\n",
    "        x.reverse()\n",
    "    #print(x)\n",
    "    x[0]= \"\".join(x[0].split())\n",
    "    x[1]= \"\".join(x[1].split())\n",
    "    #print(x)\n",
    "    dic[x[0]]= x[1]\n",
    "    \n",
    "for x in dic:\n",
    "    print(x, \":\", dic[x])\n",
    "#print(dic)"
   ]
  },
  {
   "cell_type": "markdown",
   "metadata": {},
   "source": [
    "read fasta file into a list\n",
    "(create in scripts folder, run from examples folder)\n",
    "use FPexcerpt.fta as the input. (attached)\n",
    "Outline:\n",
    "a. Get name of file from user input (extra credit, make it do multiple files).\n",
    "To start: get it to print the file name.\n",
    "\n",
    "b. Use sys.stderr.write() to give feedback\n",
    "   (Won't be captured by >)\n",
    "   \n",
    "c. Print help if the user doesn't enter a file name\n",
    "\n",
    "d. open file, read in lines:\n",
    " (extra credit: skip blank, header, and comment lines)\n",
    "\n",
    "e. if it is a sequence name, save it in a list, increment the sequence number. \n",
    "set up a blank sequence to go along with it\n",
    "\n",
    "f. if it is a portion of a sequence, strip out [spaces, \\n, dashes] and append to existing sequence\n",
    "\n",
    "g. when done, use a new for loop to go through and print out a table of size, pct composition AGCT"
   ]
  },
  {
   "cell_type": "code",
   "execution_count": null,
   "metadata": {},
   "outputs": [],
   "source": []
  },
  {
   "cell_type": "code",
   "execution_count": 202,
   "metadata": {},
   "outputs": [
    {
     "name": "stdout",
     "output_type": "stream",
     "text": [
      "Enter file name:gene_seqs.txt\n",
      "AACTGGCTGAAGAATTAGCTAATTAAAAAAAAAGGATCCTATAATCCCCCGAGAGATTTATTAAATA\n",
      "['Gene1', 'Gene2', 'Gene3', 'Gene4', 'Gene5']\n",
      "['AACTGGCTGAAGAATTAGCT', 'AATT', 'AAAAAAAAA', 'GGATCCTATAATCCCCCGAGAGATTTATTA', 'AATA']\n",
      "Gene1 -->  %A:  35.0 | %C:  15.0 | %G:  25.0 | %T:  25.0\n",
      "Gene2 -->  %A:  50.0 | %C:  0.0 | %G:  0.0 | %T:  50.0\n",
      "Gene3 -->  %A:  100.0 | %C:  0.0 | %G:  0.0 | %T:  0.0\n",
      "Gene4 -->  %A:  30.0 | %C:  23.33 | %G:  16.67 | %T:  30.0\n",
      "Gene5 -->  %A:  75.0 | %C:  0.0 | %G:  0.0 | %T:  25.0\n",
      "['T', 'C', 'G', 'A']\n",
      "Percentage of bases in all sequences:\n",
      "T : 25.373 %\n",
      "C : 14.925 %\n",
      "G : 14.925 %\n",
      "A : 44.776 %\n"
     ]
    }
   ],
   "source": [
    "#simple way to do, just for % of AGCT in one file\n",
    "\n",
    "import sys\n",
    "import os\n",
    "file= input(\"Enter file name:\")\n",
    "gene= []\n",
    "seq= []\n",
    "str_seq= \"\"\n",
    "all_seq= \"\"\n",
    "count=0\n",
    "try:\n",
    "    f= open(file)\n",
    "    for x in f:\n",
    "        t=x\n",
    "        if x[0]=='>' and count==0:\n",
    "            count+=1\n",
    "            #t= \"\".join(t.strip())\n",
    "            t= t.strip()\n",
    "            #print(t)\n",
    "            gene.append(t[1:])\n",
    "        elif x[0]=='>' and count>0:\n",
    "            seq.append(str_seq)\n",
    "            str_seq= \"\"\n",
    "            #t= \"\".join(t.strip())\n",
    "            t= t.strip()\n",
    "            gene.append(t[1:])\n",
    "        else:\n",
    "            for c in t:\n",
    "                if (c!=\" \") and (c!=\"\\n\") and (c!='-') and (c!=\"\\t\"):\n",
    "                    str_seq+=c\n",
    "                    all_seq+=c\n",
    "except:\n",
    "    print(\"File not found.\")\n",
    "\n",
    "seq.append(str_seq)\n",
    "print(all_seq)\n",
    "print(gene)\n",
    "print(seq)\n",
    "#print(\"gene name   %A    %C    %G    %T\")\n",
    "for a in range(len(gene)):\n",
    "    countA= ((seq[a].count(\"A\"))/len(seq[a]))*100 #hard coded, could be done in a better and more general way like below\n",
    "    countC= ((seq[a].count(\"C\"))/len(seq[a]))*100 #using a set => it will be better for amino acids\n",
    "    countG= ((seq[a].count(\"G\"))/len(seq[a]))*100\n",
    "    countT= ((seq[a].count(\"T\"))/len(seq[a]))*100\n",
    "    print(gene[a], \"--> \", \"%A: \", round(countA,2), \"| %C: \", round(countC,2), \"| %G: \", round(countG,2), \"| %T: \", round(countT,2))\n",
    "\n",
    "bases= list(set(all_seq))\n",
    "length= len(all_seq)\n",
    "print(bases)\n",
    "print(\"Percentage of bases in all sequences:\")\n",
    "for bs in bases:\n",
    "    print(bs, \":\",round(100*all_seq.count(bs)/length, 3), \"%\")"
   ]
  },
  {
   "cell_type": "code",
   "execution_count": 186,
   "metadata": {},
   "outputs": [
    {
     "name": "stdout",
     "output_type": "stream",
     "text": [
      "Hello! Please enter the name(s) of the file(s) you'd like to read! Type 'done' when done entering files.\n",
      "gene_seqs.txt\n",
      "The file being analyzed is gene_seqs.txt. Type 'done' when done entering files.\n",
      "done\n",
      "['Gene1', 'Gene2', 'Gene3', 'Gene4', 'Gene5']\n",
      "Name            Length     %A         %G         %C         %T        \n",
      "Gene1           21         33.33      23.81      14.29      23.81     \n",
      "Gene2           4          50.0       0.0        0.0        50.0      \n",
      "Gene3           9          100.0      0.0        0.0        0.0       \n",
      "Gene4           3          0.0        0.0        0.0        0.0       \n",
      "Gene5           4          75.0       0.0        0.0        25.0      \n"
     ]
    }
   ],
   "source": [
    "import sys\n",
    "import os\n",
    "print(\"Hello! Please enter the name(s) of the file(s) you'd like to read! Type 'done' when done entering files.\")\n",
    "file=input()\n",
    "sequence_names=[]\n",
    "sequences=[]\n",
    "count=-1\n",
    "files_in_dir=os.listdir()\n",
    "while file!=\"done\":\n",
    "    if file in files_in_dir:\n",
    "        print(\"The file being analyzed is \" + file + \". Type 'done' when done entering files.\")\n",
    "        content=open(file)\n",
    "        content=content.readlines()\n",
    "        for x in content:\n",
    "            if x[0:1]==\">\":\n",
    "                if count!=-1:\n",
    "                    sequences[count]=sequences[count].replace('-', '')\n",
    "                x=x.strip()\n",
    "                sequence_names.append(x[1:])\n",
    "                sequences.append(\"\")\n",
    "                count=count+1\n",
    "            elif x != \"\" and x[0:1]!=\"#\":\n",
    "                sequences[count]=sequences[count] + x.strip() # concat                    \n",
    "    elif file== \"\":\n",
    "        sys.stderr.write(\"This exercise is to get the percent composition of sequences. To start, you should enter a valid file name.\")\n",
    "    else: # if file not in directory\n",
    "        sys.stderr.write(\"File not found! Please enter a valid file name.\")\n",
    "    file=input()\n",
    "        \n",
    "all_hash={}\n",
    "print(sequence_names)\n",
    "for i in range(len(sequences)):\n",
    "    seq=sequences[i]\n",
    "    countA=seq.count(\"A\")/len(seq)*100\n",
    "    countG=seq.count(\"G\")/len(seq)*100\n",
    "    countC=seq.count(\"C\")/len(seq)*100\n",
    "    countT=seq.count(\"T\")/len(seq)*100\n",
    "    name=sequence_names[i]\n",
    "    all_hash[name]=[len(seq), round(countA, 2), round(countG, 2), round(countC, 2), round(countT, 2)] # using this is a good idea because if there are 2 sequences with the same name, the hash will consider them one\n",
    "print (\"{:<15} {:<10} {:<10} {:<10} {:<10} {:<10}\".format('Name','Length','%A','%G','%C','%T'))\n",
    "for key, value in all_hash.items():\n",
    "    length, percA, percG, percC, percT = value\n",
    "    print (\"{:<15} {:<10} {:<10} {:<10} {:<10} {:<10}\".format(key, length, percA, percG, percC, percT))"
   ]
  },
  {
   "cell_type": "code",
   "execution_count": 206,
   "metadata": {},
   "outputs": [
    {
     "name": "stdout",
     "output_type": "stream",
     "text": [
      "hello\n",
      "hell\n"
     ]
    }
   ],
   "source": [
    "x= \"hello\\n\"\n",
    "x= x.strip()\n",
    "print(x)\n",
    "x= x.strip('o') #does not become list\n",
    "print(x)"
   ]
  },
  {
   "cell_type": "code",
   "execution_count": 207,
   "metadata": {},
   "outputs": [
    {
     "name": "stdout",
     "output_type": "stream",
     "text": [
      "['E', 'M', 'A', 'I', 'K', 'L', 'V']\n",
      "E: 0016.67\n",
      "M: 0016.67\n",
      "A: 0016.67\n",
      "I: 0016.67\n",
      "K: 0008.33\n",
      "L: 0008.33\n",
      "V: 0016.67\n"
     ]
    }
   ],
   "source": [
    "#### !/usr/bin/env python3\n",
    "\n",
    "#DNASeq = \"ATGTCTCATTCAAAGCA\" #DNA sequence\n",
    "PeptideSequence = \"MEVAIKMLEVIA\" #can be generalized for both dna/rna and protein sequences\n",
    "\n",
    "SeqLength = float(len(PeptideSequence))\n",
    "\n",
    "AminoAcidList = list(set(PeptideSequence)) #in order to get a unique list (by using an intermediate set) of...\n",
    "print(AminoAcidList)                       #...the dna/rna/peptide sequence \n",
    "\n",
    "for AA in AminoAcidList: #we do the following calculation for every unique base inside of the sequence\n",
    "    Percent = 100 * PeptideSequence.count(AA) / SeqLength\n",
    "    print (\"%s: %07.2f\" % (AA,Percent)) #formatted print to make output better\n",
    "                                        #the number (07) in float includes the decimal point"
   ]
  },
  {
   "cell_type": "code",
   "execution_count": 2,
   "metadata": {},
   "outputs": [
    {
     "name": "stdout",
     "output_type": "stream",
     "text": [
      "['b', 'b', 'b']\n"
     ]
    }
   ],
   "source": [
    "l1= ['a','b','a','a','b','b','a','a','a']\n",
    "for a in l1[:]:\n",
    "    if a=='a':\n",
    "        l1.remove(a)\n",
    "        \n",
    "print(l1)"
   ]
  },
  {
   "cell_type": "code",
   "execution_count": 24,
   "metadata": {},
   "outputs": [
    {
     "name": "stdout",
     "output_type": "stream",
     "text": [
      "{'Anthomed': [29055.66, 'MAEYFEKPLPYKVELEGDVDGQKFTVIGEGQGDASTGRVEGKYVCTKGEVPISWVSLITSLSYGGKCFVRYPNVIKDFFKSTFPTGYHQERKITYEDDGVLETAAKVTLESGAIYNRISVKGVGFKKDGNVCKKRLHSSPPQVSYVVPYGEGIRVLYSNIYPTKDGGYVVADTRQVNRPIKAEGKSAIPKYHYIKSKIDLSTDPNERKDHIIIKEVNVASGIDFS'], 'Avictoria': [31136.84, 'MSKGEELFTGVVPILVELDGDVNGQKFSVRGEGEGDATYGKLTLKFICTTGKLPVPWPTLVTTFSYGVQCFSRYPDHMKQHDFLKSAMPEGYVQERTIFYKDDGNYKTRAEVKFEGDTLVNRIELKGIDFKEDGNILGHKMEYNYNSHNVYIMGDKPKNGIKVNFKIRHNIKDGSVQLADHYQQNTPIGDGPVLLPDNHYLSTQSALSQDPHGKRDHMVLLEFVTSAGITHGMDELYK'], 'Pontella': [28831.27, 'MPDMKLECHISGTMNGEEFELIGSGDGNTDQGRMTNNMKSIKGPLSFSPYLLSHILGYGYYHFATFPAGYENIYLHAMKNGGYSNVRTERYEDGGIISITFNYRYEGSKIIGDFKVIGTGFPTDSLIFTDKIIKSNPTCENMFPKADNILVNAYTRTYLLKDGGYYSAQVNNHMHFKSAIHPTMLQNGGSMFTHRVVEENHTKTNVAIVEYQNVFKTPTAF'], 'ceriOFP': [29102.62, 'MNLSKNVSVSVYMKGNVNNHEFEYDGEGGGDPYTGKYSMKMTLRGQNCLPFSYDIITTAFQYGFRVFTKYPEGIVDYFKDSLPDAFQWNRRIVFEDGGVLNMSSDITYKDNVLHGDVWAVGVNFPPNGPVMKNEIVMEEPTEETFTPKNGVLVGFCPKAYLLKDGSYYYGNMTTFYRSKKSGQAPPGYHFVKHRLVKTNVGHGFKTVEQTEYATAHVSDLPK'], 'rrenGFP': [28819.61, 'MDLAKLGLKEVMPTKINLEGLVGDHAFSMEGVGEGNILEGTQEVKISVTKGAPLPFAFDIVSVAFSYGNRAYTGYPEEISDYFLQSFPEGFTYERNIRYQDGGTAIVKSDISLEDGKFIVNVDFKAKDLRRMGPVMQQDIVGMQPSYESMYTNVTSVIGECIIAFKLQTGKHFTYHMRTVYKSKKPVETMPLYHFIQHRLVKTNVDTASGYVVQHETAIAAH'], 'ptilGFP': [29414.03, 'MNRNVLKNTGLKEIMSAKASVEGIVNNHVFSMEGFGKGNVLFGNQLMQIRVTKGGPLPFAFDIVSIAFQYGNRTFTKYPDDIADYFVQSFPAGFFYERNLRFEDGAIVDIRSDISLEDDKFHYKVEYRGNGFPSNGPVMQKAILGMEPSFEVVYMNSGVLVGEVDLVYKLESGNYYSCHMKTFYRSKGGVKEFPEYHFIHHRLEKTYVEEGSFVEQHETAIAQX'], 'discRFP': [29834.73, 'MRSSKNVIKEFMRFKVRMEGTVNGHEFEIEGEGEGRPYEGHNTVKLKVTKGGPLPFAWDILSPQFQYGSKVYVKHPADIPDYKKLSFPEGFKWERVMNFEDGGVVTVTQDSSLQDGCFIYKVKFIGVNFPSDGPVMQKKTMGWEASTERLYPRDGVLKGEIHKALKLKDGGHYLVEFKSIYMAKKPVQLPGYYYVDSKLDITSHNEDYTIVEQYERTEGRHHLFX'], 'ccalYFP1': [28959.72, 'MSHSKQVITQEMKMVYHMDGCVNGHSFTIEGEGTGKPYEGNQTLKLRVTKGGPLPFAFDILTATFCYGNRCFCEYPEDMPDYYKQSFPEGYSFERTMMFEDGACCTTSVHLSLTKNCFVHNSTFHGVNFPANGPVMQKKTLNWEPSSEKITPFEGNLKGDVTMFLKLEGGQQHRCQFQTTYKAHKAVKMPPNHIIEHRLVRSQDGDAVQLKEHAVAKCFTA'], 'ccalRFP1': [28809.86, 'MSLSKQVLPRDVKMRYHMDGCVNGHQFIIEGEGTGKPYEGKKILELRVTKGGPLPFAFDILSSVFTYGNRCFCEYPEDMPDYFKQSLPEGHSWERTLMFEDGGCGTASAHISLDKNCFVHKSTFHGVNFPANGPVMQKKTLNWEPSSELITAGDGILKGDVTMFLMLEGGHRLKCQFTTSYKAKKAVKMPPNHIIEHRLVRKEVADAVQIQEHAVAKHFIV'], 'rfloRFP': [29620.5, 'MSALKEEMKIXLTLVGVVNGHPFKIIGDGKGKPYEGSQELTLAVVEGGPLPFSYDILTTIVHYGNRAFVNYPKDIPDIFKQTCSGPGAGYSWQRTMSFEDGGVCTATSHIRVDGDTFNYDIHFMGADFPLNGPVMQKRTVKWEPSTEIMFQCDGLLRGDVAMSLLLKGGGHYRCDFKTIYKPKKNVKMPGYHFVDHCIEITSQQDDYNVVELYEGAVAHYSPLQKPCQAK'], 'rfloGFP': [27927.63, 'MSALKEEMKIKLKMVGVVNGQSFQIDGEGKGKPYEGSQKLTLEVVEGGPLLFSYDILTTIFQYGNRAFVNYPKDIPDIFKQTCSGPDGGFSWQRTMTYEDGGVCTASNHISVDGDTFYYVIRFNGENFPPNGPVMQKRTVKWEPSTEIMFERDGLLRGDIAMSLLLKGGGHYRCDFKTIYTPKRKVNMPGYHFVDHCIEIQKHDKDYNMAVLSX'], 'BfloGFP': [27720.08, 'DXVLLMSLPTTHDLHIFGSVNGAEFDLVGGGKGNPNDGTLETSVKSTRGALPCSPLLIGPNLGYGFYQYLPFPGGASPFQTAITDGGYQVHRVFKFEDGGVLSCNFRYTYEGGKIKGEFQLIGSGFPAGGPVMSGGLTTLDRSVAKLQCSDDCTITGTNNWSFCTTDGKRHQADVQTNYTFAKPLPAGLKEKMPIFLGHQIEVKASKTEITLSEKVKAFIDTV']}\n"
     ]
    },
    {
     "ename": "TypeError",
     "evalue": "write() argument must be str, not dict",
     "output_type": "error",
     "traceback": [
      "\u001b[1;31m---------------------------------------------------------------------------\u001b[0m",
      "\u001b[1;31mTypeError\u001b[0m                                 Traceback (most recent call last)",
      "\u001b[1;32m<ipython-input-24-489174c45f84>\u001b[0m in \u001b[0;36m<module>\u001b[1;34m\u001b[0m\n\u001b[0;32m     63\u001b[0m \u001b[1;33m\u001b[0m\u001b[0m\n\u001b[0;32m     64\u001b[0m \u001b[0mnf\u001b[0m\u001b[1;33m=\u001b[0m \u001b[0mopen\u001b[0m\u001b[1;33m(\u001b[0m\u001b[1;34m\"trial_1.txt\"\u001b[0m\u001b[1;33m,\u001b[0m \u001b[1;34m'a'\u001b[0m\u001b[1;33m)\u001b[0m\u001b[1;33m\u001b[0m\u001b[1;33m\u001b[0m\u001b[0m\n\u001b[1;32m---> 65\u001b[1;33m \u001b[0mnf\u001b[0m\u001b[1;33m.\u001b[0m\u001b[0mwrite\u001b[0m\u001b[1;33m(\u001b[0m\u001b[0mmain_dic\u001b[0m\u001b[1;33m)\u001b[0m\u001b[1;33m\u001b[0m\u001b[1;33m\u001b[0m\u001b[0m\n\u001b[0m\u001b[0;32m     66\u001b[0m \u001b[0mnf\u001b[0m\u001b[1;33m.\u001b[0m\u001b[0mclose\u001b[0m\u001b[1;33m(\u001b[0m\u001b[1;33m)\u001b[0m\u001b[1;33m\u001b[0m\u001b[1;33m\u001b[0m\u001b[0m\n",
      "\u001b[1;31mTypeError\u001b[0m: write() argument must be str, not dict"
     ]
    }
   ],
   "source": [
    "AminoDict={\n",
    "'A':89.09,\n",
    "'R':174.20,\n",
    "'N':132.12,\n",
    "'D':133.10,\n",
    "'C':121.15,\n",
    "'Q':146.15,\n",
    "'E':147.13,\n",
    "'G':75.07,\n",
    "'H':155.16,\n",
    "'I':131.17,\n",
    "'L':131.17,\n",
    "'K':146.19,\n",
    "'M':149.21,\n",
    "'F':165.19,\n",
    "'P':115.13,\n",
    "'S':105.09,\n",
    "'T':119.12,\n",
    "'W':204.23,\n",
    "'Y':181.19,\n",
    "'V':117.15,\n",
    "'X':0.0,\n",
    "'-':0.0,\n",
    "'*':0.0 }\n",
    "main_dic= {}  #key= protein ID, value is a list [MW, Seq]\n",
    "seq= \"\"\n",
    "mw= 0\n",
    "pro_id= []\n",
    "mw_seq= []\n",
    "mw_seq_final= []\n",
    "count=0\n",
    "\n",
    "file= open(\"FPexcerpt.fta\")\n",
    "\n",
    "for x in file:\n",
    "    t=x\n",
    "    if t[0]=='>' and count==0:\n",
    "        count+=1\n",
    "        pro_id.append(t[1:].strip())\n",
    "    elif t[0]=='>' and count>0:\n",
    "        mw_seq.append(round(mw,2))\n",
    "        mw_seq.append(seq)\n",
    "        mw_seq_final.append(mw_seq)\n",
    "        mw_seq= []\n",
    "        seq= \"\"\n",
    "        mw= 0\n",
    "        pro_id.append(t[1:].strip())\n",
    "    else:\n",
    "        for c in t:\n",
    "            if c!='-' and c!=' ' and c!='\\n' and c!='\\t':\n",
    "                seq+=c\n",
    "                mw+= AminoDict[c]\n",
    "mw_seq.append(round(mw,2))\n",
    "mw_seq.append(seq)\n",
    "mw_seq_final.append(mw_seq)\n",
    "\n",
    "#print(pro_id)\n",
    "#print (mw_seq_final[0])\n",
    "for x in range(len(pro_id)):\n",
    "    main_dic[pro_id[x]]= mw_seq_final[x]\n",
    "    \n",
    "print(main_dic)\n",
    "\n",
    "nf= open(\"trial_1.txt\", 'a')\n",
    "nf.write(main_dic)\n",
    "nf.close()\n"
   ]
  },
  {
   "cell_type": "code",
   "execution_count": null,
   "metadata": {},
   "outputs": [],
   "source": []
  },
  {
   "cell_type": "code",
   "execution_count": null,
   "metadata": {},
   "outputs": [],
   "source": []
  }
 ],
 "metadata": {
  "kernelspec": {
   "display_name": "Python 3",
   "language": "python",
   "name": "python3"
  },
  "language_info": {
   "codemirror_mode": {
    "name": "ipython",
    "version": 3
   },
   "file_extension": ".py",
   "mimetype": "text/x-python",
   "name": "python",
   "nbconvert_exporter": "python",
   "pygments_lexer": "ipython3",
   "version": "3.8.5"
  }
 },
 "nbformat": 4,
 "nbformat_minor": 4
}
