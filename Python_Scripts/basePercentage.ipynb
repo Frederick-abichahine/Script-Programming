{
 "cells": [
  {
   "cell_type": "code",
   "execution_count": 8,
   "metadata": {},
   "outputs": [
    {
     "name": "stdout",
     "output_type": "stream",
     "text": [
      "['K', 'A', 'E', 'M', 'V', 'L', 'I']\n",
      "K: 0008.33\n",
      "A: 0016.67\n",
      "E: 0016.67\n",
      "M: 0016.67\n",
      "V: 0016.67\n",
      "L: 0008.33\n",
      "I: 0016.67\n"
     ]
    }
   ],
   "source": [
    "#### !/usr/bin/env python3\t\n",
    "\n",
    "#DNASeq = \"ATGTCTCATTCAAAGCA\" #DNA sequence\n",
    "PeptideSequence = \"MEVAIKMLEVIA\" #can be generalized for both dna/rna and protein sequences\n",
    "\n",
    "SeqLength = float(len(PeptideSequence))\n",
    "\n",
    "AminoAcidList = list(set(PeptideSequence)) #in order to get a unique list (by using an intermediate set) of...\n",
    "print(AminoAcidList)                       #...the dna/rna/peptide sequence \n",
    "\n",
    "for AA in AminoAcidList: #we do the following calculation for every unique base inside of the sequence\n",
    "    Percent = 100 * PeptideSequence.count(AA) / SeqLength\n",
    "    print (\"%s: %07.2f\" % (AA,Percent)) #formatted print to make output better\n",
    "                                        #the number (07) in float includes the decimal point"
   ]
  },
  {
   "cell_type": "code",
   "execution_count": null,
   "metadata": {},
   "outputs": [],
   "source": []
  },
  {
   "cell_type": "code",
   "execution_count": null,
   "metadata": {},
   "outputs": [],
   "source": []
  }
 ],
 "metadata": {
  "kernelspec": {
   "display_name": "Python 3",
   "language": "python",
   "name": "python3"
  },
  "language_info": {
   "codemirror_mode": {
    "name": "ipython",
    "version": 3
   },
   "file_extension": ".py",
   "mimetype": "text/x-python",
   "name": "python",
   "nbconvert_exporter": "python",
   "pygments_lexer": "ipython3",
   "version": "3.8.5"
  },
  "toc": {
   "base_numbering": 1,
   "nav_menu": {},
   "number_sections": true,
   "sideBar": true,
   "skip_h1_title": false,
   "title_cell": "Table of Contents",
   "title_sidebar": "Contents",
   "toc_cell": false,
   "toc_position": {},
   "toc_section_display": true,
   "toc_window_display": false
  }
 },
 "nbformat": 4,
 "nbformat_minor": 5
}
