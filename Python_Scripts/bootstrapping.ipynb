{
 "cells": [
  {
   "cell_type": "code",
   "execution_count": 1,
   "metadata": {},
   "outputs": [
    {
     "name": "stdout",
     "output_type": "stream",
     "text": [
      "[10, 0, 2, 13, 13, 18, 18, 11, 11, 14, 5, 16, 9, 12, 14, 8, 14, 3, 14, 4]\n",
      "[7, 4, 6, 6, 8, 3, 2, 8, 1, 9, 18, 11, 4, 0, 11, 7, 7, 18, 3, 11]\n",
      "[7, 18, 16, 12, 17, 0, 0, 3, 15, 17, 15, 12, 4, 14, 5, 7, 7, 15, 8, 8]\n",
      "[14, 6, 4, 5, 11, 5, 15, 12, 0, 13, 3, 15, 16, 4, 14, 15, 1, 19, 13, 9]\n",
      "[19, 14, 12, 14, 14, 8, 0, 16, 16, 19, 12, 9, 1, 8, 13, 9, 17, 10, 10, 0]\n",
      "[8, 17, 3, 16, 9, 17, 19, 1, 9, 12, 3, 4, 12, 4, 3, 1, 6, 7, 8, 12]\n",
      "[2, 17, 4, 12, 1, 16, 10, 11, 10, 15, 11, 2, 9, 0, 3, 7, 17, 10, 19, 12]\n",
      "[16, 15, 3, 14, 10, 16, 14, 11, 15, 5, 16, 13, 8, 14, 14, 1, 16, 9, 12, 19]\n",
      "[8, 6, 18, 10, 7, 16, 0, 17, 7, 14, 8, 10, 14, 0, 15, 13, 8, 2, 8, 11]\n",
      "[2, 8, 17, 5, 18, 0, 19, 19, 6, 15, 3, 14, 15, 13, 7, 11, 6, 0, 15, 12]\n"
     ]
    }
   ],
   "source": [
    "#!/usr/bin/env python3\n",
    "\n",
    "# coding: utf-8\n",
    "\"\"\"demo of bootstrapping via resample with replacement\"\"\"\n",
    "\n",
    "MyReps = 10  # Number of resamplings to conduct\t  #minimum number in bootstrapping is 1000\n",
    "\n",
    "# for the demo, create an arbitrary list of numbers 0 to 19\t\n",
    "# normally these would be the original data\n",
    "MyDataList = range(20) #this would be replaced by number of rows from file\n",
    "\n",
    "# loop repeatedly to create resampled lists:\n",
    "def bootstrap(DataList,Samples=20):\n",
    "    import random\n",
    "    Bootstraps=[] # List to store the random lists\n",
    "\n",
    "    for X in range(Samples):\n",
    "        Resample = [random.choice(DataList) for Y in DataList]\n",
    "        Bootstraps.append(Resample)\n",
    "    return Bootstraps\n",
    "\n",
    "Bootstraps = bootstrap(MyDataList,MyReps)\n",
    "\n",
    "for Z in Bootstraps:\n",
    "    print (Z)\n",
    "    \n",
    "#the purpose of bootstarpping is that it is a resampling technique used in order to randomize the data that we have\n",
    "#in order to avoid any potential bias that we have inside"
   ]
  },
  {
   "cell_type": "code",
   "execution_count": null,
   "metadata": {},
   "outputs": [],
   "source": []
  },
  {
   "cell_type": "code",
   "execution_count": null,
   "metadata": {},
   "outputs": [],
   "source": []
  }
 ],
 "metadata": {
  "kernelspec": {
   "display_name": "Python 3",
   "language": "python",
   "name": "python3"
  },
  "language_info": {
   "codemirror_mode": {
    "name": "ipython",
    "version": 3
   },
   "file_extension": ".py",
   "mimetype": "text/x-python",
   "name": "python",
   "nbconvert_exporter": "python",
   "pygments_lexer": "ipython3",
   "version": "3.8.5"
  },
  "toc": {
   "base_numbering": 1,
   "nav_menu": {},
   "number_sections": true,
   "sideBar": true,
   "skip_h1_title": false,
   "title_cell": "Table of Contents",
   "title_sidebar": "Contents",
   "toc_cell": false,
   "toc_position": {},
   "toc_section_display": true,
   "toc_window_display": false
  }
 },
 "nbformat": 4,
 "nbformat_minor": 5
}
