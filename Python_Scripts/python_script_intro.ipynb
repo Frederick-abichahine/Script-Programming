{
 "cells": [
  {
   "cell_type": "markdown",
   "metadata": {},
   "source": [
    "# Module 1"
   ]
  },
  {
   "cell_type": "code",
   "execution_count": 1,
   "metadata": {},
   "outputs": [],
   "source": [
    "# !/usr/bin/env python"
   ]
  },
  {
   "cell_type": "code",
   "execution_count": 2,
   "metadata": {},
   "outputs": [
    {
     "name": "stdout",
     "output_type": "stream",
     "text": [
      "Hello\n",
      "This is number 1\n"
     ]
    }
   ],
   "source": [
    "# Tabs are important in Python\n",
    "# Statements do not have to end with a semicolomn\n",
    "# Print in 3.7 can take multiple parameters, and are separated automatically by spaces\n",
    "\n",
    "print(\"Hello\")\n",
    "print(\"This\", \"is\", \"number\", 1)"
   ]
  },
  {
   "cell_type": "code",
   "execution_count": 4,
   "metadata": {},
   "outputs": [
    {
     "name": "stdout",
     "output_type": "stream",
     "text": [
      "8\n",
      "Hello\n"
     ]
    }
   ],
   "source": [
    "# Variables can be assigned any time. They do not have to be declared as scalar\n",
    "x= 8\n",
    "print(x)\n",
    "x= \"Hello\"\n",
    "print(x)"
   ]
  },
  {
   "cell_type": "code",
   "execution_count": 6,
   "metadata": {},
   "outputs": [
    {
     "name": "stdout",
     "output_type": "stream",
     "text": [
      "Hello2\n",
      "Hello\n"
     ]
    }
   ],
   "source": [
    "# Variables are case sensitive\n",
    "X= \"Hello2\"\n",
    "print(X)\n",
    "print(x) #from previous cell"
   ]
  },
  {
   "cell_type": "code",
   "execution_count": 7,
   "metadata": {},
   "outputs": [
    {
     "name": "stdout",
     "output_type": "stream",
     "text": [
      "Line1\n",
      "Line2\n",
      "\\Line3\n"
     ]
    }
   ],
   "source": [
    "# Same escape sequences work\n",
    "print(\"Line1\\nLine2\\n\\\\Line3\")\n",
    "# \\n means new line\n",
    "# \\\\ will print \\ literally\n",
    "# \\ is an escape character"
   ]
  },
  {
   "cell_type": "code",
   "execution_count": 16,
   "metadata": {},
   "outputs": [
    {
     "name": "stdout",
     "output_type": "stream",
     "text": [
      "5\n"
     ]
    },
    {
     "data": {
      "text/plain": [
       "int"
      ]
     },
     "execution_count": 16,
     "metadata": {},
     "output_type": "execute_result"
    }
   ],
   "source": [
    "# Variable types are automatically inferred\n",
    "num1= 2\n",
    "num2= 3\n",
    "num= num1+num2\n",
    "print(num)\n",
    "type(num) #this displays the type of the variable"
   ]
  },
  {
   "cell_type": "code",
   "execution_count": 18,
   "metadata": {},
   "outputs": [
    {
     "data": {
      "text/plain": [
       "30"
      ]
     },
     "execution_count": 18,
     "metadata": {},
     "output_type": "execute_result"
    }
   ],
   "source": [
    "# Unlike perl, there is no $_ / default variable\n",
    "# '_'\n",
    "\n",
    "10 + 20"
   ]
  },
  {
   "cell_type": "code",
   "execution_count": 19,
   "metadata": {},
   "outputs": [
    {
     "data": {
      "text/plain": [
       "30"
      ]
     },
     "execution_count": 19,
     "metadata": {},
     "output_type": "execute_result"
    }
   ],
   "source": [
    "# Using the _ will print the last value\n",
    "_"
   ]
  },
  {
   "cell_type": "code",
   "execution_count": 20,
   "metadata": {},
   "outputs": [
    {
     "name": "stdout",
     "output_type": "stream",
     "text": [
      "6\n"
     ]
    }
   ],
   "source": [
    "# Same mathmatical rules and operations, as Perl, apply in python\n",
    "x= -(-6)\n",
    "print(x)"
   ]
  },
  {
   "cell_type": "code",
   "execution_count": 22,
   "metadata": {},
   "outputs": [
    {
     "ename": "SyntaxError",
     "evalue": "invalid syntax (<ipython-input-22-58817a6cd854>, line 2)",
     "output_type": "error",
     "traceback": [
      "\u001b[1;36m  File \u001b[1;32m\"<ipython-input-22-58817a6cd854>\"\u001b[1;36m, line \u001b[1;32m2\u001b[0m\n\u001b[1;33m    x++\u001b[0m\n\u001b[1;37m       ^\u001b[0m\n\u001b[1;31mSyntaxError\u001b[0m\u001b[1;31m:\u001b[0m invalid syntax\n"
     ]
    }
   ],
   "source": [
    "# There are no increment as x++\n",
    "x++"
   ]
  },
  {
   "cell_type": "code",
   "execution_count": 23,
   "metadata": {},
   "outputs": [
    {
     "name": "stdout",
     "output_type": "stream",
     "text": [
      "11\n"
     ]
    }
   ],
   "source": [
    "# Shorthand apporaches such as var+= or var-= work\n",
    "x+=5\n",
    "print(x)"
   ]
  },
  {
   "cell_type": "code",
   "execution_count": 24,
   "metadata": {},
   "outputs": [
    {
     "name": "stdout",
     "output_type": "stream",
     "text": [
      "12\n"
     ]
    }
   ],
   "source": [
    "# We have to call for a classical approach\n",
    "x= x + 1\n",
    "print(x)"
   ]
  },
  {
   "cell_type": "code",
   "execution_count": 27,
   "metadata": {},
   "outputs": [
    {
     "name": "stdout",
     "output_type": "stream",
     "text": [
      "strstr\n",
      "HellowzHellowzHellowzHellowzHellowz\n"
     ]
    }
   ],
   "source": [
    "# The x operator in perl is similar to * in Python\n",
    "print(\"str\" * 2)\n",
    "x = \"Hellowz\"\n",
    "x * 5\n",
    "print(x * 5)"
   ]
  },
  {
   "cell_type": "code",
   "execution_count": 28,
   "metadata": {},
   "outputs": [
    {
     "ename": "NameError",
     "evalue": "name 'random' is not defined",
     "output_type": "error",
     "traceback": [
      "\u001b[1;31m---------------------------------------------------------------------------\u001b[0m",
      "\u001b[1;31mNameError\u001b[0m                                 Traceback (most recent call last)",
      "\u001b[1;32m<ipython-input-28-5535dacb2856>\u001b[0m in \u001b[0;36m<module>\u001b[1;34m\u001b[0m\n\u001b[0;32m      1\u001b[0m \u001b[1;31m# rnadom is not a native function\u001b[0m\u001b[1;33m\u001b[0m\u001b[1;33m\u001b[0m\u001b[1;33m\u001b[0m\u001b[0m\n\u001b[1;32m----> 2\u001b[1;33m \u001b[0mrandom\u001b[0m\u001b[1;33m(\u001b[0m\u001b[1;36m5\u001b[0m\u001b[1;33m)\u001b[0m\u001b[1;33m\u001b[0m\u001b[1;33m\u001b[0m\u001b[0m\n\u001b[0m",
      "\u001b[1;31mNameError\u001b[0m: name 'random' is not defined"
     ]
    }
   ],
   "source": [
    "# rnadom is not a native function\n",
    "random(5)"
   ]
  },
  {
   "cell_type": "code",
   "execution_count": 74,
   "metadata": {},
   "outputs": [
    {
     "name": "stdout",
     "output_type": "stream",
     "text": [
      "5\n",
      "1\n",
      "0.9793529852580035\n"
     ]
    }
   ],
   "source": [
    "# We need to import the module with this function\n",
    "# .random() will call a function that Return the next random floating point number in the range [0.0, 1.0)\n",
    "import random\n",
    "print(random.randint(1,5)) #1 and 5 inclusve\n",
    "print(random.randrange(1,2)) #2 exclusive\n",
    "print(random.random())"
   ]
  },
  {
   "cell_type": "code",
   "execution_count": 20,
   "metadata": {},
   "outputs": [
    {
     "ename": "TypeError",
     "evalue": "unsupported operand type(s) for -: 'str' and 'int'",
     "output_type": "error",
     "traceback": [
      "\u001b[1;31m---------------------------------------------------------------------------\u001b[0m",
      "\u001b[1;31mTypeError\u001b[0m                                 Traceback (most recent call last)",
      "\u001b[1;32m<ipython-input-20-95cd020c5afb>\u001b[0m in \u001b[0;36m<module>\u001b[1;34m\u001b[0m\n\u001b[0;32m      1\u001b[0m \u001b[1;31m# Python, unlike perl, cannot automatically convert values\u001b[0m\u001b[1;33m\u001b[0m\u001b[1;33m\u001b[0m\u001b[1;33m\u001b[0m\u001b[0m\n\u001b[1;32m----> 2\u001b[1;33m \u001b[1;34m\"6\"\u001b[0m\u001b[1;33m-\u001b[0m\u001b[1;36m2\u001b[0m\u001b[1;33m\u001b[0m\u001b[1;33m\u001b[0m\u001b[0m\n\u001b[0m",
      "\u001b[1;31mTypeError\u001b[0m: unsupported operand type(s) for -: 'str' and 'int'"
     ]
    }
   ],
   "source": [
    "# Python, unlike perl, cannot automatically convert values\n",
    "\"6\"-2"
   ]
  },
  {
   "cell_type": "code",
   "execution_count": 34,
   "metadata": {},
   "outputs": [
    {
     "data": {
      "text/plain": [
       "4"
      ]
     },
     "execution_count": 34,
     "metadata": {},
     "output_type": "execute_result"
    }
   ],
   "source": [
    "# Conversion must be explicity set\n",
    "int(\"6\") - 2"
   ]
  },
  {
   "cell_type": "code",
   "execution_count": 36,
   "metadata": {},
   "outputs": [
    {
     "name": "stdout",
     "output_type": "stream",
     "text": [
      "This is True\n",
      "This is False\n"
     ]
    }
   ],
   "source": [
    "# Block in Python must be done via 'tabs'. The block is introduced via a ':' if and only\n",
    "# if it applies in the syntax (if statement, loop, etc)\n",
    "if True:\n",
    "    print(\"This is True\")\n",
    "else:\n",
    "    print(\"This is False\")\n",
    "if False:\n",
    "    print(\"This is True\")\n",
    "else:\n",
    "    print(\"This is False\")"
   ]
  },
  {
   "cell_type": "code",
   "execution_count": 38,
   "metadata": {},
   "outputs": [
    {
     "name": "stdout",
     "output_type": "stream",
     "text": [
      "The value of dice 1 is  4\n",
      "The value of dice 2 is  4\n",
      "The value of dice 3 is  4\n",
      "The value of dice 4 is  1\n",
      "The value of dice 5 is  5\n",
      "Sum: 18\n"
     ]
    }
   ],
   "source": [
    "# Basic Dice Application\n",
    "# randrange returns an integer between 1 and 6\n",
    "dice1 = random.randrange(1, 6)\n",
    "print(\"The value of dice 1 is \", dice1)\n",
    "\n",
    "dice2 = random.randrange(1, 6)\n",
    "print(\"The value of dice 2 is \", dice2)\n",
    "\n",
    "dice3 = random.randrange(1, 6)\n",
    "print(\"The value of dice 3 is \", dice3)\n",
    "\n",
    "dice4 = random.randrange(1, 6)\n",
    "print(\"The value of dice 4 is \", dice4)\n",
    "\n",
    "dice5 = random.randrange(1, 6)\n",
    "print(\"The value of dice 5 is \", dice5)\n",
    "\n",
    "sum = dice1 + dice2 + dice3 + dice4 + dice5\n",
    "print(\"Sum:\", sum)"
   ]
  }
 ],
 "metadata": {
  "kernelspec": {
   "display_name": "Python 3",
   "language": "python",
   "name": "python3"
  },
  "language_info": {
   "codemirror_mode": {
    "name": "ipython",
    "version": 3
   },
   "file_extension": ".py",
   "mimetype": "text/x-python",
   "name": "python",
   "nbconvert_exporter": "python",
   "pygments_lexer": "ipython3",
   "version": "3.8.5"
  }
 },
 "nbformat": 4,
 "nbformat_minor": 4
}
