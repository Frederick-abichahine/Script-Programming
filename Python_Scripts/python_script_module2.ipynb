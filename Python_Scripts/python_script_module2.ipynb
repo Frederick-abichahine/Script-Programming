{
 "cells": [
  {
   "cell_type": "markdown",
   "metadata": {},
   "source": [
    "# Module 2"
   ]
  },
  {
   "cell_type": "code",
   "execution_count": 2,
   "metadata": {},
   "outputs": [
    {
     "name": "stdout",
     "output_type": "stream",
     "text": [
      "Hello\n",
      "Equal to 5\n"
     ]
    }
   ],
   "source": [
    "# if statements require an indented block\n",
    "# We use the ':' to introduce the block and indent for the block\n",
    "x= 5\n",
    "\n",
    "if x<10:\n",
    "    print(\"Hello\")\n",
    "else:\n",
    "    print(\"Bye\")\n",
    "    \n",
    "# Nested if statements require several block\n",
    "\n",
    "if x<10:\n",
    "    if x<5:\n",
    "        print(\"Less than 5\")\n",
    "    if x==5:\n",
    "        print(\"Equal to 5\")\n",
    "    else:\n",
    "        print(\"Greater than 5, but less than 10\")\n",
    "else:\n",
    "    print(\"Greater than 10\")"
   ]
  },
  {
   "cell_type": "code",
   "execution_count": 2,
   "metadata": {},
   "outputs": [
    {
     "name": "stdout",
     "output_type": "stream",
     "text": [
      "Even\n",
      "Odd\n"
     ]
    }
   ],
   "source": [
    "sum = 50\n",
    "\n",
    "if sum%2==0:\n",
    "    print(\"Even\")\n",
    "else:\n",
    "    print(\"Odd\")\n",
    "    \n",
    "sum = 75 #changes \n",
    "\n",
    "if sum%2==0:\n",
    "    print(\"Even\")\n",
    "else:\n",
    "    print(\"Odd\")"
   ]
  },
  {
   "cell_type": "code",
   "execution_count": 3,
   "metadata": {},
   "outputs": [
    {
     "name": "stdout",
     "output_type": "stream",
     "text": [
      "Between 40 and 80\n"
     ]
    }
   ],
   "source": [
    "# mutltiple if statements can be used by replacing the subsequent conditions with elif\n",
    "#takes the previous sum, in this case 75\n",
    "\n",
    "if sum<40:\n",
    "    print(\"Less than 40\")\n",
    "elif sum<80:\n",
    "    print(\"Between 40 and 80\")\n",
    "else:\n",
    "    print(\"Greater or equal to 80\")"
   ]
  },
  {
   "cell_type": "code",
   "execution_count": 6,
   "metadata": {},
   "outputs": [
    {
     "name": "stdout",
     "output_type": "stream",
     "text": [
      "What is the value of var? 764GGV6\n",
      "764GGV6\n"
     ]
    }
   ],
   "source": [
    "# Getting input from the user requires the use of input(\"Question\") for information from the keyboard\n",
    "\n",
    "var= input(\"What is the value of var? \")\n",
    "print(var)"
   ]
  },
  {
   "cell_type": "code",
   "execution_count": 19,
   "metadata": {},
   "outputs": [
    {
     "name": "stdout",
     "output_type": "stream",
     "text": [
      "Hello. My name is XOXO. This is my story\n",
      "\n",
      "--------------\n",
      "Hello. My name is XOXO. This is my story\n",
      "--------------\n"
     ]
    }
   ],
   "source": [
    "# rstrip() replaces chomp in Python\n",
    "# This function returns the new string\n",
    "\n",
    "test = \"Hello. My name is XOXO. This is my story\\n\"\n",
    "print(test)\n",
    "\n",
    "print(\"--------------\")\n",
    "newString= test.rstrip()\n",
    "print(newString)\n",
    "print(\"--------------\")"
   ]
  },
  {
   "cell_type": "code",
   "execution_count": 22,
   "metadata": {},
   "outputs": [
    {
     "name": "stdout",
     "output_type": "stream",
     "text": [
      "What is the number that was generated?34\n",
      "The number generated was 38\n",
      "The difference is 4\n"
     ]
    }
   ],
   "source": [
    "import random\n",
    "randomNum= random.randrange(100)\n",
    "\n",
    "guessedNumber= eval(input(\"What is the number that was generated?\"))\n",
    "#guessedNumber= int(guessedNumber) #if without eval/int\n",
    "\n",
    "if randomNum== guessedNumber:\n",
    "    print(\"Correctly guessed!\")\n",
    "else:\n",
    "    print(\"The number generated was\", randomNum)\n",
    "    print(\"The difference is\", randomNum - guessedNumber)"
   ]
  },
  {
   "cell_type": "code",
   "execution_count": 7,
   "metadata": {},
   "outputs": [
    {
     "name": "stdout",
     "output_type": "stream",
     "text": [
      "It is not\n",
      "False False True\n"
     ]
    }
   ],
   "source": [
    "# Python compares strings using the regular comparison operators\n",
    "if \"A\" > \"z\":\n",
    "    print(\"A iz greater than z\")\n",
    "else:\n",
    "    print(\"It is not\")\n",
    "print(\"A\" > \"z\", \"A\" == \"z\", \"A\" < \"z\")"
   ]
  },
  {
   "cell_type": "code",
   "execution_count": 9,
   "metadata": {},
   "outputs": [
    {
     "name": "stdout",
     "output_type": "stream",
     "text": [
      "False\n",
      "True\n",
      "False\n"
     ]
    }
   ],
   "source": [
    "# Logical and (&&) is the 'and' operator\n",
    "# Logical or (||) is the 'or' operator\n",
    "# Notice that True and False must be capitalized\n",
    "# ! is replaced with the not\n",
    "\n",
    "print(True and False)\n",
    "print(True or False)\n",
    "print(not True)"
   ]
  },
  {
   "cell_type": "code",
   "execution_count": 10,
   "metadata": {},
   "outputs": [
    {
     "name": "stdout",
     "output_type": "stream",
     "text": [
      "Betweem 5 and 10\n",
      "Between 5 and 10\n"
     ]
    }
   ],
   "source": [
    "# Several Conditions may be added and combined\n",
    "x= 7\n",
    "\n",
    "if x>5 and x<10:\n",
    "    print(\"Betweem 5 and 10\")\n",
    "    \n",
    "# Parathesis are not required\n",
    "\n",
    "if (x>5) and (x<10):\n",
    "    print(\"Between 5 and 10\")"
   ]
  },
  {
   "cell_type": "code",
   "execution_count": 23,
   "metadata": {},
   "outputs": [
    {
     "name": "stdout",
     "output_type": "stream",
     "text": [
      "What is a? 10\n",
      "What is b? 10\n",
      "Less\n"
     ]
    }
   ],
   "source": [
    "# You can assign parameters based on certain conditions in a shofthand way\n",
    "a = int(input(\"What is a? \"))\n",
    "b = int(input(\"What is b? \"))\n",
    "x = \"Greater\" if a > b else \"Less\"\n",
    "print(x)"
   ]
  },
  {
   "cell_type": "code",
   "execution_count": null,
   "metadata": {},
   "outputs": [],
   "source": []
  }
 ],
 "metadata": {
  "kernelspec": {
   "display_name": "Python 3",
   "language": "python",
   "name": "python3"
  },
  "language_info": {
   "codemirror_mode": {
    "name": "ipython",
    "version": 3
   },
   "file_extension": ".py",
   "mimetype": "text/x-python",
   "name": "python",
   "nbconvert_exporter": "python",
   "pygments_lexer": "ipython3",
   "version": "3.8.5"
  }
 },
 "nbformat": 4,
 "nbformat_minor": 4
}
