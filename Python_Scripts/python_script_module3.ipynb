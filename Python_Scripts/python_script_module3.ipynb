{
 "cells": [
  {
   "cell_type": "markdown",
   "metadata": {},
   "source": [
    "# Module 3"
   ]
  },
  {
   "cell_type": "code",
   "execution_count": 1,
   "metadata": {},
   "outputs": [
    {
     "name": "stdout",
     "output_type": "stream",
     "text": [
      "H\n",
      "e\n",
      "l\n",
      "l\n",
      "o\n",
      "w\n",
      "z\n"
     ]
    }
   ],
   "source": [
    "# Looping can be done via a for loop and a while loop\n",
    "# However the for loop is an iteratory, unlike the classical for loop in other languages\n",
    "# Its syntax is for [tempVariable] in Object\n",
    "# You can also loop through a string\n",
    "\n",
    "for char in \"Hellowz\":\n",
    "    print(char)"
   ]
  },
  {
   "cell_type": "code",
   "execution_count": 2,
   "metadata": {},
   "outputs": [
    {
     "name": "stdout",
     "output_type": "stream",
     "text": [
      "0\n",
      "1\n",
      "2\n",
      "3\n",
      "4\n",
      "5\n",
      "6\n",
      "7\n",
      "8\n",
      "9\n",
      "10\n",
      "11\n",
      "12\n",
      "13\n",
      "14\n",
      "15\n",
      "16\n",
      "17\n",
      "18\n",
      "19\n"
     ]
    }
   ],
   "source": [
    "# Looping in a range requires the use of range function\n",
    "# It loops from 0 till the parameter passed excluded\n",
    "\n",
    "for x in range(20): #20 not included\n",
    "    print(x)"
   ]
  },
  {
   "cell_type": "code",
   "execution_count": 7,
   "metadata": {},
   "outputs": [
    {
     "name": "stdout",
     "output_type": "stream",
     "text": [
      "The dice's value is:  1\n",
      "The dice's value is:  3\n",
      "The dice's value is:  5\n",
      "The dice's value is:  2\n",
      "The dice's value is:  2\n",
      "The dice's value is:  2\n",
      "15\n",
      "5\n",
      "1\n"
     ]
    }
   ],
   "source": [
    "import random\n",
    "result= 0\n",
    "summ=0\n",
    "maxx=0\n",
    "minn=7\n",
    "\n",
    "for x in range(6):\n",
    "    result= random.randrange(1,6)\n",
    "    print(\"The dice's value is: \", result)\n",
    "    summ+=result\n",
    "    if result > maxx:\n",
    "        maxx=result\n",
    "    if result<minn:\n",
    "        minn=result\n",
    "\n",
    "print(summ)\n",
    "print(maxx)\n",
    "print(minn)"
   ]
  },
  {
   "cell_type": "code",
   "execution_count": 3,
   "metadata": {},
   "outputs": [
    {
     "name": "stdout",
     "output_type": "stream",
     "text": [
      "1\n",
      "2\n",
      "skipping an extra step\n",
      "4\n",
      "5\n",
      "5\n"
     ]
    }
   ],
   "source": [
    "# While maintains the classical syntax\n",
    "# break works just like any language (In Perl it is last)\n",
    "# Continue replaces the next statement in Perl\n",
    "\n",
    "x=0\n",
    "\n",
    "while True:\n",
    "    x=x+1\n",
    "    print(x)\n",
    "    \n",
    "    if x==2:\n",
    "        x=x+1\n",
    "        print(\"skipping an extra step\")\n",
    "        continue\n",
    "        \n",
    "    if x==5:\n",
    "        print(x)\n",
    "        break"
   ]
  },
  {
   "cell_type": "code",
   "execution_count": 5,
   "metadata": {},
   "outputs": [],
   "source": [
    "# Python does not support labels like Perl"
   ]
  },
  {
   "cell_type": "code",
   "execution_count": 5,
   "metadata": {},
   "outputs": [],
   "source": [
    "# You can stop a python script via the exit function\n",
    "exit()"
   ]
  },
  {
   "cell_type": "code",
   "execution_count": 10,
   "metadata": {},
   "outputs": [
    {
     "name": "stdout",
     "output_type": "stream",
     "text": [
      "found\n",
      "2\n",
      "-1\n"
     ]
    }
   ],
   "source": [
    "# The in operator can check for subtrings\n",
    "if \"in\" in \"Maxinger\":\n",
    "    print(\"found\")\n",
    "else:\n",
    "    print(\"Not found\")\n",
    "    \n",
    "# .index() and .find() can be called to find the index of a character\n",
    "# The main difference is that index returns -1 if not found and raises an error\n",
    "# find simply returns -1\n",
    "\n",
    "print(\"Hellowz\".index(\"ll\")) #returns first instance of l   #if we use .rindex() it will start searching from the end of the string, but the value will be exactly the same   #one advantage of rindex over index is that if we know that something is at the end of the string then the computational time will be much less if we use rindex (like in a gene sequence)\n",
    "print(\"Hellowz\".find(\"sad\"))\n",
    "\n",
    "# rindex is the same as index except if starts searchign the string from the right side"
   ]
  },
  {
   "cell_type": "code",
   "execution_count": 22,
   "metadata": {},
   "outputs": [
    {
     "name": "stdout",
     "output_type": "stream",
     "text": [
      "Hello, my name is Ralph. I am 0024 years old\n"
     ]
    }
   ],
   "source": [
    "# Printing formatted text can be done via the % operator which replaces the variable\n",
    "# Multiple variables are passed via a tuple (var1, var2). These will be discussed later\n",
    "\n",
    "print(\"Hello, my name is %s. I am %04d years old\" % (\"Ralph\", 24))"
   ]
  },
  {
   "cell_type": "code",
   "execution_count": null,
   "metadata": {},
   "outputs": [],
   "source": []
  }
 ],
 "metadata": {
  "kernelspec": {
   "display_name": "Python 3",
   "language": "python",
   "name": "python3"
  },
  "language_info": {
   "codemirror_mode": {
    "name": "ipython",
    "version": 3
   },
   "file_extension": ".py",
   "mimetype": "text/x-python",
   "name": "python",
   "nbconvert_exporter": "python",
   "pygments_lexer": "ipython3",
   "version": "3.8.5"
  }
 },
 "nbformat": 4,
 "nbformat_minor": 4
}
