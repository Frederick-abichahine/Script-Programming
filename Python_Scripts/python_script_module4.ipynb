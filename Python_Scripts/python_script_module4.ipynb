{
 "cells": [
  {
   "cell_type": "markdown",
   "metadata": {},
   "source": [
    "# Module 4"
   ]
  },
  {
   "cell_type": "code",
   "execution_count": 15,
   "metadata": {},
   "outputs": [
    {
     "name": "stdout",
     "output_type": "stream",
     "text": [
      "('test', 123, ('Hellow', 555))\n",
      "123\n",
      "test\n"
     ]
    }
   ],
   "source": [
    "# Tuples can be created in the same manner as python and can contain any type of variable\n",
    "#difference between arrays and lists: arryas hold elements of the same type in java while lists can hold different types\n",
    "l = (\"test\", 123, (\"Hellow\", 555))\n",
    "\n",
    "print(l)\n",
    "print(l[1])\n",
    "print(l[0])"
   ]
  },
  {
   "cell_type": "code",
   "execution_count": 2,
   "metadata": {},
   "outputs": [
    {
     "name": "stdout",
     "output_type": "stream",
     "text": [
      "test 123 ('Hellow', 555)\n"
     ]
    }
   ],
   "source": [
    "# Accesing a tuple is via the index\n",
    "print(l[0], l[1], l[2])"
   ]
  },
  {
   "cell_type": "code",
   "execution_count": 3,
   "metadata": {},
   "outputs": [
    {
     "name": "stdout",
     "output_type": "stream",
     "text": [
      "('test', 123)\n",
      "123\n",
      "(123, ('Hellow', 555)) and ('test', 123)\n"
     ]
    }
   ],
   "source": [
    " # A list may be sliced according to the indexes. The first is inclusive, the last is excluded\n",
    "print(l[0:2])\n",
    "\n",
    "# Negative indexes may be used\n",
    "print(l[-2])\n",
    "\n",
    "# A range can be from index to end or from start to end\n",
    "print(l[1:], \"and\", l[:2]) #last index is exclusive"
   ]
  },
  {
   "cell_type": "code",
   "execution_count": 4,
   "metadata": {},
   "outputs": [
    {
     "name": "stdout",
     "output_type": "stream",
     "text": [
      "3\n"
     ]
    }
   ],
   "source": [
    "# Getting the length means using the len() function\n",
    "print(len(l))"
   ]
  },
  {
   "cell_type": "code",
   "execution_count": 5,
   "metadata": {},
   "outputs": [
    {
     "ename": "TypeError",
     "evalue": "'tuple' object does not support item assignment",
     "output_type": "error",
     "traceback": [
      "\u001b[1;31m---------------------------------------------------------------------------\u001b[0m",
      "\u001b[1;31mTypeError\u001b[0m                                 Traceback (most recent call last)",
      "\u001b[1;32m<ipython-input-5-88807e761fb2>\u001b[0m in \u001b[0;36m<module>\u001b[1;34m\u001b[0m\n\u001b[0;32m      1\u001b[0m \u001b[1;31m# Once values are assigned they cannot be changed\u001b[0m\u001b[1;33m\u001b[0m\u001b[1;33m\u001b[0m\u001b[1;33m\u001b[0m\u001b[0m\n\u001b[1;32m----> 2\u001b[1;33m \u001b[0ml\u001b[0m\u001b[1;33m[\u001b[0m\u001b[1;36m0\u001b[0m\u001b[1;33m]\u001b[0m \u001b[1;33m=\u001b[0m \u001b[1;36m2\u001b[0m\u001b[1;33m\u001b[0m\u001b[1;33m\u001b[0m\u001b[0m\n\u001b[0m",
      "\u001b[1;31mTypeError\u001b[0m: 'tuple' object does not support item assignment"
     ]
    }
   ],
   "source": [
    "# Once values are assigned they cannot be changed\n",
    "l[0] = 2"
   ]
  },
  {
   "cell_type": "code",
   "execution_count": 2,
   "metadata": {},
   "outputs": [
    {
     "name": "stdout",
     "output_type": "stream",
     "text": [
      "(1, 2, 3, 4, 5, 6)\n",
      "('Repeat', 'Repeat', 'Repeat')\n"
     ]
    }
   ],
   "source": [
    "# Concatenation can be performed on lists\n",
    "print((1, 2, 3) + (4, 5, 6))\n",
    "\n",
    "# Multiplication to repeat elements can also be applied\n",
    "print((\"Repeat\",) * 3)"
   ]
  },
  {
   "cell_type": "code",
   "execution_count": 19,
   "metadata": {},
   "outputs": [
    {
     "name": "stdout",
     "output_type": "stream",
     "text": [
      "(1, 2, 3, 4, 5, 6, 7, 8, 9, 10) (1, 2, 3, 4, 5, 6, 7, 8, 9, 10)\n",
      "Odd\n",
      "1\n",
      "3\n",
      "5\n",
      "7\n",
      "9\n",
      "Even\n",
      "2\n",
      "4\n",
      "6\n",
      "8\n",
      "10\n"
     ]
    }
   ],
   "source": [
    "numbers = (1, 2, 3, 4, 5, 6, 7, 8, 9, 10)\n",
    "\n",
    "# An alternative is to programmatically create a tuple from a list / array using\n",
    "# the tuple function (lists will be discussed later)\n",
    "# Remember that the range function returns a list / array\n",
    "\n",
    "numbers2 = tuple(range(1, 11))\n",
    "print(numbers, numbers2)\n",
    "\n",
    "# Get all odd and even numbers\n",
    "# These are stored in a new type of data structure called the generator class which you can loop in\n",
    "\n",
    "oddNumbers = (x for x in numbers if x % 2 == 1)\n",
    "evenNumbers = (x for x in numbers if x % 2 == 0)\n",
    "\n",
    "print(\"Odd\")\n",
    "for x in oddNumbers:\n",
    "    print(x)\n",
    "    \n",
    "print(\"Even\")\n",
    "for x in evenNumbers:\n",
    "    print(x)"
   ]
  },
  {
   "cell_type": "code",
   "execution_count": 9,
   "metadata": {},
   "outputs": [
    {
     "name": "stdout",
     "output_type": "stream",
     "text": [
      "Odd [1, 3, 5, 7, 9] Even [2, 4, 6, 8, 10]\n"
     ]
    }
   ],
   "source": [
    "# An alternative would be to create a list / array instead of a tuple\n",
    "    \n",
    "oddNumbers = [x for x in numbers if x % 2 == 1]\n",
    "evenNumbers = [x for x in numbers if x % 2 == 0]\n",
    "\n",
    "print(\"Odd\", oddNumbers, \"Even\", evenNumbers)"
   ]
  },
  {
   "cell_type": "code",
   "execution_count": 46,
   "metadata": {},
   "outputs": [
    {
     "name": "stdout",
     "output_type": "stream",
     "text": [
      "[0, 1, 2, 3, 4, 5, 'Hi']\n"
     ]
    }
   ],
   "source": [
    "# Lists can be though of as Arrays and mimic queues. They can contain all data types\n",
    "\n",
    "array = [0, 1, 2, 3, 4, 5, \"Hi\"]\n",
    "print(array)"
   ]
  },
  {
   "cell_type": "code",
   "execution_count": 6,
   "metadata": {},
   "outputs": [
    {
     "name": "stdout",
     "output_type": "stream",
     "text": [
      "['T', 'E', 'S', 'T', 'I', 'N', 'G']\n"
     ]
    }
   ],
   "source": [
    "# Certain data structures can be converted to a list/array via the list() function\n",
    "\n",
    "l2 = list(\"TESTING\")\n",
    "print(l2)"
   ]
  },
  {
   "cell_type": "code",
   "execution_count": 12,
   "metadata": {},
   "outputs": [
    {
     "ename": "TypeError",
     "evalue": "'int' object is not iterable",
     "output_type": "error",
     "traceback": [
      "\u001b[1;31m---------------------------------------------------------------------------\u001b[0m",
      "\u001b[1;31mTypeError\u001b[0m                                 Traceback (most recent call last)",
      "\u001b[1;32m<ipython-input-12-02be72ab95de>\u001b[0m in \u001b[0;36m<module>\u001b[1;34m\u001b[0m\n\u001b[0;32m      1\u001b[0m \u001b[1;31m# Other data structures will call TypeError if they cannot be converted\u001b[0m\u001b[1;33m\u001b[0m\u001b[1;33m\u001b[0m\u001b[1;33m\u001b[0m\u001b[0m\n\u001b[1;32m----> 2\u001b[1;33m \u001b[0ml3\u001b[0m \u001b[1;33m=\u001b[0m \u001b[0mlist\u001b[0m\u001b[1;33m(\u001b[0m\u001b[1;36m123123\u001b[0m\u001b[1;33m)\u001b[0m\u001b[1;33m\u001b[0m\u001b[1;33m\u001b[0m\u001b[0m\n\u001b[0m",
      "\u001b[1;31mTypeError\u001b[0m: 'int' object is not iterable"
     ]
    }
   ],
   "source": [
    "# Other data structures will call TypeError if they cannot be converted\n",
    "l3 = list(123123)"
   ]
  },
  {
   "cell_type": "code",
   "execution_count": 47,
   "metadata": {},
   "outputs": [
    {
     "name": "stdout",
     "output_type": "stream",
     "text": [
      "[0, 1, 2, 3, 4, 5, 'Hi', 'List']\n"
     ]
    }
   ],
   "source": [
    "# Adding to a list means using the append() function. You can also concatenate 2\n",
    "# lists using the +\n",
    "array.append(\"List\")\n",
    "print(array)"
   ]
  },
  {
   "cell_type": "code",
   "execution_count": 48,
   "metadata": {},
   "outputs": [
    {
     "name": "stdout",
     "output_type": "stream",
     "text": [
      "1\n",
      "[0, 'New Value', 2, 3, 4, 5, 'Hi', 'List']\n"
     ]
    }
   ],
   "source": [
    "# Replacing an element is the same as accessing it in a tuple\n",
    "print(array[1])\n",
    "array[1] = \"New Value\"\n",
    "print(array)"
   ]
  },
  {
   "cell_type": "code",
   "execution_count": 30,
   "metadata": {},
   "outputs": [
    {
     "data": {
      "text/plain": [
       "[2, 3]"
      ]
     },
     "execution_count": 30,
     "metadata": {},
     "output_type": "execute_result"
    }
   ],
   "source": [
    " # Accessing the range is the same as a list, a subset of list\n",
    "array[2:4]"
   ]
  },
  {
   "cell_type": "code",
   "execution_count": 49,
   "metadata": {},
   "outputs": [
    {
     "name": "stdout",
     "output_type": "stream",
     "text": [
      "['List', 'Hi', 5, 4, 3, 2, 'New Value', 0]\n"
     ]
    }
   ],
   "source": [
    "# Certain functions allow easy manipulation of a list\n",
    "array.reverse() # Inline function; orignal array modified\n",
    "print(array)"
   ]
  },
  {
   "cell_type": "code",
   "execution_count": 50,
   "metadata": {},
   "outputs": [
    {
     "name": "stdout",
     "output_type": "stream",
     "text": [
      "Hi\n",
      "None\n",
      "['List', 5, 4, 3, 2, 0]\n"
     ]
    }
   ],
   "source": [
    "# Removing an element at means using the pop(index) function\n",
    "# Removing the first occurence of 'x' means using the remove(value) function\n",
    "# Returns the value\n",
    "print(array.pop(1))\n",
    "# Does not return the value\n",
    "print(array.remove(\"New Value\")) #this removes the first occurance of \"New Value\"\n",
    "# Reprint the array to see the changes\n",
    "print(array)\n"
   ]
  },
  {
   "cell_type": "code",
   "execution_count": 51,
   "metadata": {},
   "outputs": [
    {
     "ename": "TypeError",
     "evalue": "'<' not supported between instances of 'int' and 'str'",
     "output_type": "error",
     "traceback": [
      "\u001b[1;31m---------------------------------------------------------------------------\u001b[0m",
      "\u001b[1;31mTypeError\u001b[0m                                 Traceback (most recent call last)",
      "\u001b[1;32m<ipython-input-51-eb09eb6a9668>\u001b[0m in \u001b[0;36m<module>\u001b[1;34m\u001b[0m\n\u001b[0;32m      1\u001b[0m \u001b[1;31m# Arrays have an in-built sorting function\u001b[0m\u001b[1;33m\u001b[0m\u001b[1;33m\u001b[0m\u001b[1;33m\u001b[0m\u001b[0m\n\u001b[0;32m      2\u001b[0m \u001b[1;31m# However, this only works if all the data types are the same\u001b[0m\u001b[1;33m\u001b[0m\u001b[1;33m\u001b[0m\u001b[1;33m\u001b[0m\u001b[0m\n\u001b[1;32m----> 3\u001b[1;33m \u001b[0mprint\u001b[0m\u001b[1;33m(\u001b[0m\u001b[0marray\u001b[0m\u001b[1;33m.\u001b[0m\u001b[0msort\u001b[0m\u001b[1;33m(\u001b[0m\u001b[1;33m)\u001b[0m\u001b[1;33m)\u001b[0m\u001b[1;33m\u001b[0m\u001b[1;33m\u001b[0m\u001b[0m\n\u001b[0m",
      "\u001b[1;31mTypeError\u001b[0m: '<' not supported between instances of 'int' and 'str'"
     ]
    }
   ],
   "source": [
    "# Arrays have an in-built sorting function\n",
    "# However, this only works if all the data types are the same\n",
    "print(array.sort())\n"
   ]
  },
  {
   "cell_type": "code",
   "execution_count": 19,
   "metadata": {},
   "outputs": [
    {
     "name": "stdout",
     "output_type": "stream",
     "text": [
      "['a', 'b', 'd', 'e']\n"
     ]
    }
   ],
   "source": [
    "array2 = ['a', 'd', 'b', 'e']\n",
    "array2.sort()\n",
    "print(array2)\n"
   ]
  },
  {
   "cell_type": "code",
   "execution_count": 20,
   "metadata": {},
   "outputs": [
    {
     "name": "stdout",
     "output_type": "stream",
     "text": [
      "['George', 'Joseph', 'Maria', 'Rami', 'Tony']\n"
     ]
    }
   ],
   "source": [
    "names = [\"George\", \"Tony\", \"Maria\", \"Joseph\", \"Rami\"]\n",
    "names.sort()\n",
    "print(names)"
   ]
  },
  {
   "cell_type": "code",
   "execution_count": 21,
   "metadata": {},
   "outputs": [],
   "source": [
    "# Spaceship operators are not found in python as it is strict in comparisons. An alternative\n",
    "# would be to use the total_ordering class.\n",
    "# Details found in https://portingguide.readthedocs.io/en/latest/comparisons.html\n"
   ]
  },
  {
   "cell_type": "code",
   "execution_count": 52,
   "metadata": {},
   "outputs": [
    {
     "name": "stdout",
     "output_type": "stream",
     "text": [
      "What are the letters?a b c d ef g\n",
      "['a', 'b', 'c', 'd', 'ef', 'g']\n"
     ]
    }
   ],
   "source": [
    " # Split works and results in a list. You just have to pass\n",
    "# the delimiter\n",
    "\n",
    "\"Hello, my name is Joseph. This is a test\".split(\" \")\n",
    "a= input(\"What are the letters?\").split(\" \")\n",
    "print(a)"
   ]
  },
  {
   "cell_type": "code",
   "execution_count": 24,
   "metadata": {},
   "outputs": [],
   "source": [
    "Audios = [\"Title1 1999 Artist1\"]\n",
    "Audios = Audios + [\"Title2 2000 Artist2\"]\n",
    "Audios.append(\"Title3 2001 Artist3\")\n",
    "Audios.append(\"Title4 2002 Artist4\")\n",
    "Audios.append(\"Title5 2003 Artist5\")"
   ]
  },
  {
   "cell_type": "code",
   "execution_count": 25,
   "metadata": {},
   "outputs": [
    {
     "data": {
      "text/plain": [
       "['Title1 1999 Artist1',\n",
       " 'Title2 2000 Artist2',\n",
       " 'Title3 2001 Artist3',\n",
       " 'Title4 2002 Artist4',\n",
       " 'Title5 2003 Artist5']"
      ]
     },
     "execution_count": 25,
     "metadata": {},
     "output_type": "execute_result"
    }
   ],
   "source": [
    "Audios"
   ]
  },
  {
   "cell_type": "code",
   "execution_count": 26,
   "metadata": {},
   "outputs": [
    {
     "name": "stdout",
     "output_type": "stream",
     "text": [
      "Title: Title1\n",
      "Release Date: 1999\n",
      "Artist: Artist1\n",
      "Title: Title2\n",
      "Release Date: 2000\n",
      "Artist: Artist2\n",
      "Title: Title3\n",
      "Release Date: 2001\n",
      "Artist: Artist3\n",
      "Title: Title4\n",
      "Release Date: 2002\n",
      "Artist: Artist4\n",
      "Title: Title5\n",
      "Release Date: 2003\n",
      "Artist: Artist5\n",
      "Entry number 0 Title: Title1 Release Date: 1999\n",
      "Entry number 1 Title: Title2 Release Date: 2000\n",
      "Entry number 2 Title: Title3 Release Date: 2001\n",
      "Entry number 3 Title: Title4 Release Date: 2002\n",
      "Entry number 4 Title: Title5 Release Date: 2003\n"
     ]
    }
   ],
   "source": [
    "for entry in Audios:\n",
    "    result = entry.split(\" \")\n",
    "    print(\"Title:\", result[0])\n",
    "    print(\"Release Date:\", result[1])\n",
    "    print(\"Artist:\", result[2])\n",
    "\n",
    "# Accessing the index using the enumerate function\n",
    "# BE careful to force the int to become an str using the str function\n",
    "\n",
    "for index, entry in enumerate(Audios):\n",
    "    result = entry.split(\" \")\n",
    "    print(\"Entry number \"+ str(index), \"Title:\", result[0], \"Release Date:\", result[1])"
   ]
  },
  {
   "cell_type": "code",
   "execution_count": null,
   "metadata": {},
   "outputs": [],
   "source": []
  }
 ],
 "metadata": {
  "kernelspec": {
   "display_name": "Python 3",
   "language": "python",
   "name": "python3"
  },
  "language_info": {
   "codemirror_mode": {
    "name": "ipython",
    "version": 3
   },
   "file_extension": ".py",
   "mimetype": "text/x-python",
   "name": "python",
   "nbconvert_exporter": "python",
   "pygments_lexer": "ipython3",
   "version": "3.8.5"
  }
 },
 "nbformat": 4,
 "nbformat_minor": 4
}
