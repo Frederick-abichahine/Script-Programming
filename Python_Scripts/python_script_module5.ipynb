{
 "cells": [
  {
   "cell_type": "markdown",
   "metadata": {},
   "source": [
    "# Module 5"
   ]
  },
  {
   "cell_type": "code",
   "execution_count": 6,
   "metadata": {},
   "outputs": [
    {
     "data": {
      "text/plain": [
       "'Hello this is a test'"
      ]
     },
     "execution_count": 6,
     "metadata": {},
     "output_type": "execute_result"
    }
   ],
   "source": [
    "# You can use the join function\n",
    "# However this is a function of the string itself that takes the\n",
    "# list as a parameter. The seperator is the string upon which you\n",
    "# call the function\n",
    "\n",
    "\" \".join([\"Hello\", \"this\", \"is\", \"a\", \"test\"])"
   ]
  },
  {
   "cell_type": "code",
   "execution_count": 10,
   "metadata": {},
   "outputs": [
    {
     "name": "stdout",
     "output_type": "stream",
     "text": [
      "Correct: 0-1-2-3-4-5-6-7-8-9-10\n",
      "Incorrect: [-0-,- -1-,- -2-,- -3-,- -4-,- -5-,- -6-,- -7-,- -8-,- -9-,- -1-0-]\n"
     ]
    }
   ],
   "source": [
    "# ints must be converted to a string for the concatenation to work\n",
    "numbers = [str(x) for x in range(0, 11)]\n",
    "\n",
    "print(\"Correct:\", \"-\".join(numbers))\n",
    "\n",
    "# Otherwise\n",
    "incorrectFormat = [x for x in range(0, 11)]\n",
    "print(\"Incorrect:\", \"-\".join (str(incorrectFormat)))"
   ]
  },
  {
   "cell_type": "code",
   "execution_count": 16,
   "metadata": {},
   "outputs": [
    {
     "data": {
      "text/plain": [
       "'t-s-e-t- -a- -s-i- -s-i-h-T'"
      ]
     },
     "execution_count": 16,
     "metadata": {},
     "output_type": "execute_result"
    }
   ],
   "source": [
    "l = list(\"This is a test\")\n",
    "l.reverse()\n",
    "\"-\".join(l)"
   ]
  },
  {
   "cell_type": "code",
   "execution_count": 13,
   "metadata": {},
   "outputs": [
    {
     "data": {
      "text/plain": [
       "2"
      ]
     },
     "execution_count": 13,
     "metadata": {},
     "output_type": "execute_result"
    }
   ],
   "source": [
    "# Hashes are dictionnaries\n",
    "# They are similar to the Json format and are very powerful\n",
    "# Every key has a value and they are always in pairs\n",
    "dic = {\n",
    "'a': 2,\n",
    "'b': 3,\n",
    "'c': 4\n",
    "}\n",
    "\n",
    "# Accessing the values is through the key\n",
    "dic['a']"
   ]
  },
  {
   "cell_type": "code",
   "execution_count": 17,
   "metadata": {},
   "outputs": [
    {
     "name": "stdout",
     "output_type": "stream",
     "text": [
      "{'a': 6, 'b': 3, 'c': 4, 'newDic': 'Hellow'}\n"
     ]
    }
   ],
   "source": [
    "# You can also add or modify as many values as you need in the same manner\n",
    "\n",
    "dic['a'] = 6\n",
    "dic['newDic'] = 'Hellow'\n",
    "\n",
    "print(dic)"
   ]
  },
  {
   "cell_type": "code",
   "execution_count": 18,
   "metadata": {},
   "outputs": [
    {
     "name": "stdout",
     "output_type": "stream",
     "text": [
      "Who are you looking for?Rami\n",
      "Koura\n"
     ]
    }
   ],
   "source": [
    "addressBook = {}\n",
    "addressBook['Rami'] = \"Koura\"\n",
    "addressBook['Joseph'] = \"Daraya\"\n",
    "addressBook['Maria'] = \"Sahel Alma\"\n",
    "x = input(\"Who are you looking for?\")\n",
    "\n",
    "if x in addressBook:\n",
    "    print(addressBook[x])\n",
    "else:\n",
    "    print(\"Not in adress book\")"
   ]
  },
  {
   "cell_type": "code",
   "execution_count": 10,
   "metadata": {},
   "outputs": [
    {
     "name": "stdout",
     "output_type": "stream",
     "text": [
      "Rami : Koura\n",
      "Joseph : Daraya\n",
      "Maria : Sahel Alma\n"
     ]
    }
   ],
   "source": [
    "# To get the keys we use a classical loop\n",
    "for x in addressBook:\n",
    "    print(x, \":\", addressBook[x])"
   ]
  },
  {
   "cell_type": "code",
   "execution_count": 20,
   "metadata": {},
   "outputs": [
    {
     "name": "stdout",
     "output_type": "stream",
     "text": [
      "Joseph Daraya\n",
      "Maria Sahel Alma\n"
     ]
    }
   ],
   "source": [
    "# To get the keys and values in the same loop\n",
    "# We needs to use the .items() function\n",
    "for key, value in addressBook.items():\n",
    "    print(key, value)"
   ]
  },
  {
   "cell_type": "code",
   "execution_count": 12,
   "metadata": {},
   "outputs": [],
   "source": [
    "# Order is maintained based on the same order of addition\n",
    "# Sorting it uses the OrderedDictionary\n",
    "# http://docs.python.org/library/collections.html#collections.OrderedDict"
   ]
  },
  {
   "cell_type": "code",
   "execution_count": 19,
   "metadata": {},
   "outputs": [
    {
     "name": "stdout",
     "output_type": "stream",
     "text": [
      "Koura\n"
     ]
    },
    {
     "ename": "KeyError",
     "evalue": "'N/A'",
     "output_type": "error",
     "traceback": [
      "\u001b[1;31m---------------------------------------------------------------------------\u001b[0m",
      "\u001b[1;31mKeyError\u001b[0m                                  Traceback (most recent call last)",
      "\u001b[1;32m<ipython-input-19-53baa07b2488>\u001b[0m in \u001b[0;36m<module>\u001b[1;34m\u001b[0m\n\u001b[0;32m      4\u001b[0m \u001b[1;33m\u001b[0m\u001b[0m\n\u001b[0;32m      5\u001b[0m \u001b[0mprint\u001b[0m\u001b[1;33m(\u001b[0m\u001b[0maddressBook\u001b[0m\u001b[1;33m.\u001b[0m\u001b[0mpop\u001b[0m\u001b[1;33m(\u001b[0m\u001b[1;34m\"Rami\"\u001b[0m\u001b[1;33m)\u001b[0m\u001b[1;33m)\u001b[0m\u001b[1;33m\u001b[0m\u001b[1;33m\u001b[0m\u001b[0m\n\u001b[1;32m----> 6\u001b[1;33m \u001b[0mprint\u001b[0m\u001b[1;33m(\u001b[0m\u001b[0maddressBook\u001b[0m\u001b[1;33m.\u001b[0m\u001b[0mpop\u001b[0m\u001b[1;33m(\u001b[0m\u001b[1;34m\"N/A\"\u001b[0m\u001b[1;33m)\u001b[0m\u001b[1;33m)\u001b[0m\u001b[1;33m\u001b[0m\u001b[1;33m\u001b[0m\u001b[0m\n\u001b[0m",
      "\u001b[1;31mKeyError\u001b[0m: 'N/A'"
     ]
    }
   ],
   "source": [
    "# Removing values is done via the .pop() function\n",
    "# True is printed if found and removed\n",
    "# Otherwise a key error is called\n",
    "\n",
    "print(addressBook.pop(\"Rami\"))\n",
    "print(addressBook.pop(\"N/A\"))"
   ]
  },
  {
   "cell_type": "code",
   "execution_count": 14,
   "metadata": {},
   "outputs": [
    {
     "name": "stdout",
     "output_type": "stream",
     "text": [
      "Does not Exist\n"
     ]
    }
   ],
   "source": [
    "# Fix the above error we use the 'if in' operators\n",
    "if \"N/A\" in addressBook:\n",
    "    print(\"Exists\")\n",
    "else:\n",
    "    print(\"Does not Exist\")"
   ]
  },
  {
   "cell_type": "code",
   "execution_count": 23,
   "metadata": {},
   "outputs": [
    {
     "name": "stdout",
     "output_type": "stream",
     "text": [
      "{'Actinobacter': 'GATCGA...TCA', 'subtilus sp.': 'ATCGATT...ACT', 'Homosapiens': 'ATGAT...TTC'}\n",
      "{'Actinobacter': 'GATCGA...TCA', 'subtilus sp.': 'ATCGATT...ACT'} \n",
      "\n",
      "Actinobacter 8924342\n",
      "Actinobacter GATCGA...TCA\n"
     ]
    }
   ],
   "source": [
    "# To find common keys, we have to tranform it into a set\n",
    "\n",
    "myRDP = { 'Actinobacter': 'GATCGA...TCA', 'subtilus sp.': 'ATCGATT...ACT' }\n",
    "myNames = { 'Actinobacter': '8924342' }\n",
    "\n",
    "rdpSet = set(myRDP) #only takes keys\n",
    "namesSet = set(myNames)\n",
    "\n",
    "#print(rdpSet)\n",
    "#print(namesSet)\n",
    "\n",
    "myRDP[\"Homosapiens\"]= \"ATGAT...TTC\" #will add it to the dictionary in an alphabetical order\n",
    "print(myRDP)\n",
    "del(myRDP[\"Homosapiens\"]) #to delete the key, can also use pop\n",
    "print(myRDP, \"\\n\")\n",
    "#myRDP.pop(\"Homosapiens\")\n",
    "#print(myRDP, \"\\n\")\n",
    "\n",
    "for name in rdpSet.intersection(namesSet):\n",
    "    print(name, myNames[name])\n",
    "    print(name, myRDP[name])\n",
    "\n",
    "# Or use a classical loop approach like the next example"
   ]
  },
  {
   "cell_type": "code",
   "execution_count": 3,
   "metadata": {},
   "outputs": [
    {
     "name": "stdout",
     "output_type": "stream",
     "text": [
      "0 Exists in both Arrays\n",
      "1 Doesn't exist in Array2\n",
      "2 Exists in both Arrays\n",
      "3 Doesn't exist in Array2\n",
      "4 Exists in both Arrays\n",
      "5 Exists in both Arrays\n"
     ]
    }
   ],
   "source": [
    "Array1 = [0, 1, 2, 3, 4, 5]\n",
    "Array2 = [0, 2, 4, 5]\n",
    "\n",
    "for x in Array1:\n",
    "    if x in Array2:\n",
    "        print(x, \"Exists in both Arrays\")\n",
    "    else:\n",
    "        print(x, \"Doesn't exist in Array2\")"
   ]
  },
  {
   "cell_type": "code",
   "execution_count": null,
   "metadata": {},
   "outputs": [],
   "source": []
  }
 ],
 "metadata": {
  "kernelspec": {
   "display_name": "Python 3",
   "language": "python",
   "name": "python3"
  },
  "language_info": {
   "codemirror_mode": {
    "name": "ipython",
    "version": 3
   },
   "file_extension": ".py",
   "mimetype": "text/x-python",
   "name": "python",
   "nbconvert_exporter": "python",
   "pygments_lexer": "ipython3",
   "version": "3.8.5"
  }
 },
 "nbformat": 4,
 "nbformat_minor": 4
}
