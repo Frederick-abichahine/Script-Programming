{
 "cells": [
  {
   "cell_type": "markdown",
   "metadata": {},
   "source": [
    "# Module 6"
   ]
  },
  {
   "cell_type": "code",
   "execution_count": 33,
   "metadata": {},
   "outputs": [
    {
     "name": "stdout",
     "output_type": "stream",
     "text": [
      "C:\\Users\\Frederick\\Desktop\\Scripting Python\n"
     ]
    }
   ],
   "source": [
    "# Working with files are easy with the open(filename, mode) function\n",
    "# The mode indicates, how the file is going to be opened \"r\" for reading,\n",
    "# \"w\" for writing and \"a\" for a appending.\n",
    "# By default r is chosen\n",
    "#with w, the file will be emptied and re-written from scratch #in bash >\n",
    "#with a, if file exists then the content will be added to this file (not overwrite like w) #in bash >>\n",
    "\n",
    "f = open(\"Test.txt\")\n",
    "\n",
    "# In order to avoid problems with directories (Cross-platform dependency),\n",
    "# you can use the os.path.join\n",
    "# However, this requires you to import the os module\n",
    "\n",
    "import os\n",
    "cwd = os.getcwd() #like using pwd in bash\n",
    "print(cwd) #just to see current working directory\n",
    "targetFile = os.path.join(cwd, \"Test2.txt\")\n",
    "f2 = open(targetFile, \"a\")\n"
   ]
  },
  {
   "cell_type": "code",
   "execution_count": 37,
   "metadata": {},
   "outputs": [
    {
     "name": "stdout",
     "output_type": "stream",
     "text": [
      "hiiiiiiiiiii hehe\n",
      "how\n",
      "are you\n",
      "lol\n",
      "['hiiiiiiiiiii hehe\\n', 'how\\n', 'are you\\n', 'lol']\n"
     ]
    }
   ],
   "source": [
    "# Accessing the file's data is done via looping or using the read(), readLine(),\n",
    "# or readLines() functions\n",
    "f = open(\"Test.txt\")\n",
    "for line in f:\n",
    "    print(line.strip())\n",
    "f.close()\n",
    "#in order to do this below we need to re open the file since in the loop above we already reached the end of the file\n",
    "f = open(\"Test.txt\")\n",
    "print(f.readlines())\n",
    "f.close()\n",
    "# readlines wil return a list of all the lines\n",
    "# readLine will return the next line\n",
    "# read will return one big string with everything"
   ]
  },
  {
   "cell_type": "code",
   "execution_count": 41,
   "metadata": {},
   "outputs": [],
   "source": [
    "# Writing to a file is done via the write() function\n",
    "# writelines will write a list of lines\n",
    "# if the file was opened with the a flag, then the data is appended\n",
    "# Otherwise, it is overwriten\n",
    "f2 = open(targetFile, \"a\")\n",
    "f2.write(\"Appended data\")\n",
    "\n",
    "# Closing the file is required for the changes to be saved\n",
    "\n",
    "f2.close()"
   ]
  },
  {
   "cell_type": "code",
   "execution_count": 48,
   "metadata": {},
   "outputs": [
    {
     "name": "stdout",
     "output_type": "stream",
     "text": [
      "Ya 7elooooooooooooo\n",
      "\n",
      "Appended dataAppended dataAppended dataAppended data\n"
     ]
    }
   ],
   "source": [
    "targetFile = os.path.join(cwd, \"Test2.txt\")\n",
    "f2 = open(targetFile, \"r\")\n",
    "\n",
    "# Read the lines in a single list\n",
    "\n",
    "lines = f2.readlines()\n",
    "for x in lines:\n",
    "    print(x)"
   ]
  },
  {
   "cell_type": "code",
   "execution_count": 52,
   "metadata": {},
   "outputs": [
    {
     "name": "stdout",
     "output_type": "stream",
     "text": [
      "eheh iiiiiiiiiiih\n",
      "woh\n",
      "uoy era\n",
      "lol\n"
     ]
    }
   ],
   "source": [
    "f = open(\"Test.txt\")\n",
    "lines = f.readlines()\n",
    "for x in lines:\n",
    "    # Remove trailing spaces\n",
    "    x = x.strip()\n",
    "    tempLine = list(x)\n",
    "    tempLine.reverse()\n",
    "    print(\"\".join(tempLine)) #to change the list to a string"
   ]
  },
  {
   "cell_type": "code",
   "execution_count": null,
   "metadata": {},
   "outputs": [],
   "source": [
    "# The die function is sys.exit()\n",
    "import sys\n",
    "sys.exit()"
   ]
  },
  {
   "cell_type": "code",
   "execution_count": 33,
   "metadata": {},
   "outputs": [
    {
     "name": "stdout",
     "output_type": "stream",
     "text": [
      "An error has occured\n"
     ]
    }
   ],
   "source": [
    "# In order to handle file errors,\n",
    "# we have to try and catch the statements\n",
    "try:\n",
    "    open(\"FileDoesntExist.txt\")\n",
    "except:\n",
    "    print(\"An error has occured\")"
   ]
  },
  {
   "cell_type": "code",
   "execution_count": 34,
   "metadata": {},
   "outputs": [
    {
     "data": {
      "text/plain": [
       "b'hiiiiiiiiiii hehe'"
      ]
     },
     "execution_count": 34,
     "metadata": {},
     "output_type": "execute_result"
    }
   ],
   "source": [
    "# To open a binary file, an rb flag should be used\n",
    "f = open(\"Test.txt\", \"rb\")\n",
    "f.read()"
   ]
  },
  {
   "cell_type": "code",
   "execution_count": 37,
   "metadata": {},
   "outputs": [
    {
     "name": "stdout",
     "output_type": "stream",
     "text": [
      "Directory  TestDirectory  already exists\n"
     ]
    }
   ],
   "source": [
    "# Creating a directory is done via the os.mkdir command\n",
    "\n",
    "dirName = \"TestDirectory\"\n",
    "\n",
    "# Check if the directory doesn't exist\n",
    "\n",
    "if not os.path.exists(dirName):\n",
    "    os.mkdir(dirName)\n",
    "    print(\"Directory \" , dirName , \" Created \")\n",
    "else:\n",
    "    print(\"Directory \" , dirName , \" already exists\")"
   ]
  },
  {
   "cell_type": "code",
   "execution_count": 36,
   "metadata": {},
   "outputs": [
    {
     "name": "stdout",
     "output_type": "stream",
     "text": [
      "Directory  TestDirectory  already exists\n"
     ]
    }
   ],
   "source": [
    "# Let's try creating it again\n",
    "if not os.path.exists(dirName):\n",
    "    os.mkdir(dirName)\n",
    "    print(\"Directory \" , dirName , \" Created \")\n",
    "else:\n",
    "    print(\"Directory \" , dirName , \" already exists\")"
   ]
  },
  {
   "cell_type": "code",
   "execution_count": 38,
   "metadata": {},
   "outputs": [
    {
     "ename": "FileNotFoundError",
     "evalue": "[WinError 2] The system cannot find the file specified: 'C:\\\\Users\\\\josep_000\\\\'",
     "output_type": "error",
     "traceback": [
      "\u001b[1;31m---------------------------------------------------------------------------\u001b[0m",
      "\u001b[1;31mFileNotFoundError\u001b[0m                         Traceback (most recent call last)",
      "\u001b[1;32m<ipython-input-38-787c70b1d024>\u001b[0m in \u001b[0;36m<module>\u001b[1;34m\u001b[0m\n\u001b[0;32m      1\u001b[0m \u001b[1;31m# Note the double slashes are required to escape them and make them literals\u001b[0m\u001b[1;33m\u001b[0m\u001b[1;33m\u001b[0m\u001b[1;33m\u001b[0m\u001b[0m\n\u001b[1;32m----> 2\u001b[1;33m \u001b[0mos\u001b[0m\u001b[1;33m.\u001b[0m\u001b[0mchdir\u001b[0m\u001b[1;33m(\u001b[0m\u001b[1;34m'C:\\\\Users\\\\josep_000\\\\'\u001b[0m\u001b[1;33m)\u001b[0m\u001b[1;33m\u001b[0m\u001b[1;33m\u001b[0m\u001b[0m\n\u001b[0m\u001b[0;32m      3\u001b[0m \u001b[1;31m# Gettign teh current directory is done via the os.getcwd\u001b[0m\u001b[1;33m\u001b[0m\u001b[1;33m\u001b[0m\u001b[1;33m\u001b[0m\u001b[0m\n\u001b[0;32m      4\u001b[0m \u001b[0mprint\u001b[0m\u001b[1;33m(\u001b[0m\u001b[0mos\u001b[0m\u001b[1;33m.\u001b[0m\u001b[0mgetcwd\u001b[0m\u001b[1;33m(\u001b[0m\u001b[1;33m)\u001b[0m\u001b[1;33m)\u001b[0m\u001b[1;33m\u001b[0m\u001b[1;33m\u001b[0m\u001b[0m\n\u001b[0;32m      5\u001b[0m \u001b[1;33m\u001b[0m\u001b[0m\n",
      "\u001b[1;31mFileNotFoundError\u001b[0m: [WinError 2] The system cannot find the file specified: 'C:\\\\Users\\\\josep_000\\\\'"
     ]
    }
   ],
   "source": [
    "# Note the double slashes are required to escape them and make them literals\n",
    "os.chdir('C:\\\\Users\\\\josep_000\\\\')\n",
    "# Gettign teh current directory is done via the os.getcwd\n",
    "print(os.getcwd())\n",
    "\n",
    "# Changing the directory is done via the os.chdir()\n",
    "os.chdir('C:\\\\')\n",
    "print(os.getcwd())"
   ]
  },
  {
   "cell_type": "code",
   "execution_count": null,
   "metadata": {},
   "outputs": [],
   "source": []
  }
 ],
 "metadata": {
  "kernelspec": {
   "display_name": "Python 3",
   "language": "python",
   "name": "python3"
  },
  "language_info": {
   "codemirror_mode": {
    "name": "ipython",
    "version": 3
   },
   "file_extension": ".py",
   "mimetype": "text/x-python",
   "name": "python",
   "nbconvert_exporter": "python",
   "pygments_lexer": "ipython3",
   "version": "3.8.5"
  }
 },
 "nbformat": 4,
 "nbformat_minor": 4
}
