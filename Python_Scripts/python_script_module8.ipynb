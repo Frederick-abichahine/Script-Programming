{
 "cells": [
  {
   "cell_type": "markdown",
   "metadata": {},
   "source": [
    "# Module 8"
   ]
  },
  {
   "cell_type": "code",
   "execution_count": 7,
   "metadata": {},
   "outputs": [
    {
     "name": "stdout",
     "output_type": "stream",
     "text": [
      "8 8\n",
      "9 8\n",
      "9 9\n",
      "[2, 3, 4, 2] [2, 3, 4, 2]\n"
     ]
    }
   ],
   "source": [
    "# Python works differently than other languages in referencing\n",
    "# This is dependent if the object is mutabel or immutable\n",
    "# Notice the following behavior\n",
    "# The variables are independent\n",
    "\n",
    "x = 8 #these are scalar variables (take only 1 value) => changing one value will not affect the other in the case of y=x\n",
    "y = x\n",
    "print(x, y)\n",
    "\n",
    "x = 9 #acts like a new x, unlike java\n",
    "print(x, y)\n",
    "\n",
    "y = y + 1\n",
    "print(x, y)\n",
    "\n",
    "# Check the following\n",
    "# Notice how modifying the original or the copy changes both\n",
    "\n",
    "x2 = [2, 3, 4]\n",
    "y2 = x2 #both are pointing to the same list, so modifying one means we are modifying the other\n",
    "#y2 = [x for x in x2] #this will make y2 independant of x2, so appending to it will not change x2\n",
    "#or.. y2= [] + x2\n",
    "y2.append(2)\n",
    "print(y2, x2)"
   ]
  },
  {
   "cell_type": "code",
   "execution_count": 5,
   "metadata": {},
   "outputs": [
    {
     "name": "stdout",
     "output_type": "stream",
     "text": [
      "Outer string, before = Old String\n",
      "inner String New string\n",
      "Outer string, after = Old String\n"
     ]
    }
   ],
   "source": [
    "# Methods create local copies of the passed values so replacing it will not change anything\n",
    "# Strings are immutable\n",
    "# Therefore the value is passed and not the reference\n",
    "\n",
    "def replaceString(the_string):\n",
    "    the_string = \"New string\"\n",
    "    print('inner String', the_string)\n",
    "    \n",
    "outer_string = 'Old String'\n",
    "print('Outer string, before =', outer_string)\n",
    "replaceString(outer_string)\n",
    "print('Outer string, after =', outer_string)"
   ]
  },
  {
   "cell_type": "code",
   "execution_count": 3,
   "metadata": {},
   "outputs": [
    {
     "name": "stdout",
     "output_type": "stream",
     "text": [
      "Outer list, before = ['Old Element1', 'Old Element2']\n",
      "Outer list, after = ['Old Element1', 'Old Element2', 'New Element']\n"
     ]
    }
   ],
   "source": [
    "# Lists are mutable\n",
    "# In place changes take effect\n",
    "#since lists pass the reference rather than value, unlike strings\n",
    "\n",
    "def appendToList(list):\n",
    "    list.append(\"New Element\")\n",
    "    \n",
    "l = ['Old Element1', 'Old Element2']\n",
    "\n",
    "print('Outer list, before =', l)\n",
    "appendToList(l)\n",
    "print('Outer list, after =', l)"
   ]
  },
  {
   "cell_type": "code",
   "execution_count": 4,
   "metadata": {},
   "outputs": [
    {
     "name": "stdout",
     "output_type": "stream",
     "text": [
      "Outer list, before = ['Old Element1', 'Old Element2']\n",
      "Inner list ['Old Element1', 'Old Element2', 'New Element1', 'New Element2']\n",
      "Outer list, after = ['Old Element1', 'Old Element2']\n"
     ]
    }
   ],
   "source": [
    "# Concatenating works and modifies the original\n",
    "\n",
    "def appendToList(list):\n",
    "    list = list + ['New Element1', 'New Element2']\n",
    "    print(\"Inner list\", list)\n",
    "\n",
    "l = ['Old Element1', 'Old Element2']\n",
    "\n",
    "print('Outer list, before =', l)\n",
    "appendToList(l)\n",
    "print('Outer list, after =', l)"
   ]
  },
  {
   "cell_type": "code",
   "execution_count": 8,
   "metadata": {},
   "outputs": [],
   "source": [
    "#Notes on fasta files:\n",
    "\n",
    "#a fasta file is a set of sequences (dna or protein sequences)\n",
    "#every sequence should start with a > and identification (ID) followed by the sequence\n",
    "#=> every time while reading a file when we reach the symbol > this indicates that we reached a new sequence \n",
    "#the ID is stated right after the > and then everything after it as long as they dont start with a > means that \n",
    "# they will be part of the sequence "
   ]
  },
  {
   "cell_type": "code",
   "execution_count": 5,
   "metadata": {},
   "outputs": [
    {
     "name": "stdout",
     "output_type": "stream",
     "text": [
      "Outer object, before The value of A is 1.\n",
      "Outer object, after The value of A is 5.\n"
     ]
    }
   ],
   "source": [
    "# Consider the following example\n",
    "# self is the same as this in Java and other languages\n",
    "# Variables in objects are modified\n",
    "# We will define a new object called testObject\n",
    "\n",
    "class testObject:\n",
    "    \n",
    "    def __init__(self):\n",
    "        self.a = 1\n",
    "        \n",
    "    def __str__(self):\n",
    "        # Another way of formatting instead of the '%' operator\n",
    "        return \"The value of A is {}.\".format(self.a)\n",
    "    \n",
    "    def changeA(self):\n",
    "        self.a = 2\n",
    "        \n",
    "# Method to modify internal value\n",
    "def modifySelf(obj):\n",
    "    obj.a = 5\n",
    "\n",
    "# Outer Scope\n",
    "newObject = testObject()\n",
    "print(\"Outer object, before\", newObject)\n",
    "modifySelf(newObject)\n",
    "print(\"Outer object, after\", newObject)"
   ]
  },
  {
   "cell_type": "code",
   "execution_count": 6,
   "metadata": {},
   "outputs": [],
   "source": [
    "# Scope and referencing is different when importing a namespace\n",
    "# More information can be found in https://docs.python.org/3/tutorial/classes.html"
   ]
  }
 ],
 "metadata": {
  "kernelspec": {
   "display_name": "Python 3",
   "language": "python",
   "name": "python3"
  },
  "language_info": {
   "codemirror_mode": {
    "name": "ipython",
    "version": 3
   },
   "file_extension": ".py",
   "mimetype": "text/x-python",
   "name": "python",
   "nbconvert_exporter": "python",
   "pygments_lexer": "ipython3",
   "version": "3.8.5"
  }
 },
 "nbformat": 4,
 "nbformat_minor": 4
}
