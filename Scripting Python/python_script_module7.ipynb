{
 "cells": [
  {
   "cell_type": "markdown",
   "metadata": {},
   "source": [
    "# Module 7"
   ]
  },
  {
   "cell_type": "code",
   "execution_count": 2,
   "metadata": {},
   "outputs": [
    {
     "name": "stdout",
     "output_type": "stream",
     "text": [
      "Method 1 called\n"
     ]
    }
   ],
   "source": [
    "# Functions can be defined using the 'def'\n",
    "\n",
    "def method1():\n",
    "    print(\"Method 1 called\")\n",
    "\n",
    "method1()"
   ]
  },
  {
   "cell_type": "code",
   "execution_count": 3,
   "metadata": {},
   "outputs": [
    {
     "name": "stdout",
     "output_type": "stream",
     "text": [
      "Method 2 called with variable 2\n"
     ]
    }
   ],
   "source": [
    "# You can define as many variables as you want\n",
    "\n",
    "def method2(variable):\n",
    "    # A local copy of the variable is created\n",
    "    print(\"Method 2 called with variable \"+str(variable))\n",
    "\n",
    "method2(2)"
   ]
  },
  {
   "cell_type": "code",
   "execution_count": 4,
   "metadata": {},
   "outputs": [
    {
     "name": "stdout",
     "output_type": "stream",
     "text": [
      "default default2\n"
     ]
    }
   ],
   "source": [
    "# You can set default values as parameters\n",
    "\n",
    "def method3(variable = \"default\", variable2 = \"default2\"):\n",
    "    print(variable, variable2)\n",
    "\n",
    "method3()"
   ]
  },
  {
   "cell_type": "code",
   "execution_count": 5,
   "metadata": {},
   "outputs": [
    {
     "name": "stdout",
     "output_type": "stream",
     "text": [
      "default newDefault2\n",
      "newDefault1 newDefault2\n",
      "newDefault1 newDefault2\n"
     ]
    }
   ],
   "source": [
    "# You can call the method,\n",
    "# passing the variables by name\n",
    "\n",
    "method3(variable2 = \"newDefault2\")\n",
    "\n",
    "# The following line (Commented) cannot be called\n",
    "# method3(variable = \"newDefault1\", variable2)\n",
    "\n",
    "method3(variable = \"newDefault1\", variable2 = \"newDefault2\")\n",
    "method3(\"newDefault1\", \"newDefault2\")"
   ]
  },
  {
   "cell_type": "code",
   "execution_count": 6,
   "metadata": {},
   "outputs": [
    {
     "name": "stdout",
     "output_type": "stream",
     "text": [
      "(2, 3)\n",
      "[2, 3]\n",
      "12\n",
      "aaaaaa\n"
     ]
    }
   ],
   "source": [
    "# A method can have a return type of anything\n",
    "# Returns a tuple\n",
    "\n",
    "def returnedMethod():\n",
    "    return (2, 3)\n",
    "print(returnedMethod())\n",
    "\n",
    "def returnedMethod2():\n",
    "    return [2, 3]\n",
    "print(returnedMethod2())\n",
    "\n",
    "def multiply(a, b, c):\n",
    "    return a*b*c\n",
    "print(multiply(2, 2, 3))\n",
    "\n",
    "# Notice the behavior in the following:\n",
    "# 2 * 3 = 6\n",
    "# 6 * a = aaaaaa\n",
    "\n",
    "print(multiply(2, 3, 'a'))"
   ]
  },
  {
   "cell_type": "code",
   "execution_count": 7,
   "metadata": {},
   "outputs": [],
   "source": [
    "# Parameters in the functions can be any type of variable\n",
    "# Python does not have a prototype like perl"
   ]
  },
  {
   "cell_type": "code",
   "execution_count": 16,
   "metadata": {},
   "outputs": [
    {
     "name": "stdout",
     "output_type": "stream",
     "text": [
      "3\n",
      "Local Variable\n"
     ]
    },
    {
     "ename": "NameError",
     "evalue": "name 'globalv' is not defined",
     "output_type": "error",
     "traceback": [
      "\u001b[1;31m---------------------------------------------------------------------------\u001b[0m",
      "\u001b[1;31mNameError\u001b[0m                                 Traceback (most recent call last)",
      "\u001b[1;32m<ipython-input-16-5f1bb3e3c612>\u001b[0m in \u001b[0;36m<module>\u001b[1;34m\u001b[0m\n\u001b[0;32m     20\u001b[0m \u001b[0mprint\u001b[0m\u001b[1;33m(\u001b[0m\u001b[0mlocalVar\u001b[0m\u001b[1;33m)\u001b[0m\u001b[1;33m\u001b[0m\u001b[1;33m\u001b[0m\u001b[0m\n\u001b[0;32m     21\u001b[0m \u001b[1;31m# Notice how the previous function runs and the next line gives an error\u001b[0m\u001b[1;33m\u001b[0m\u001b[1;33m\u001b[0m\u001b[1;33m\u001b[0m\u001b[0m\n\u001b[1;32m---> 22\u001b[1;33m \u001b[0mmethod4\u001b[0m\u001b[1;33m(\u001b[0m\u001b[1;33m)\u001b[0m\u001b[1;33m\u001b[0m\u001b[1;33m\u001b[0m\u001b[0m\n\u001b[0m",
      "\u001b[1;32m<ipython-input-16-5f1bb3e3c612>\u001b[0m in \u001b[0;36mmethod4\u001b[1;34m()\u001b[0m\n\u001b[0;32m      6\u001b[0m \u001b[1;32mdef\u001b[0m \u001b[0mmethod4\u001b[0m\u001b[1;33m(\u001b[0m\u001b[1;33m)\u001b[0m\u001b[1;33m:\u001b[0m\u001b[1;33m\u001b[0m\u001b[1;33m\u001b[0m\u001b[0m\n\u001b[0;32m      7\u001b[0m     \u001b[1;31m# globalv is not defined\u001b[0m\u001b[1;33m\u001b[0m\u001b[1;33m\u001b[0m\u001b[1;33m\u001b[0m\u001b[0m\n\u001b[1;32m----> 8\u001b[1;33m     \u001b[0mprint\u001b[0m\u001b[1;33m(\u001b[0m\u001b[0mglobalv\u001b[0m\u001b[1;33m)\u001b[0m \u001b[1;31m#v not V\u001b[0m\u001b[1;33m\u001b[0m\u001b[1;33m\u001b[0m\u001b[0m\n\u001b[0m\u001b[0;32m      9\u001b[0m \u001b[1;33m\u001b[0m\u001b[0m\n\u001b[0;32m     10\u001b[0m \u001b[1;32mdef\u001b[0m \u001b[0mmethod5\u001b[0m\u001b[1;33m(\u001b[0m\u001b[1;33m)\u001b[0m\u001b[1;33m:\u001b[0m\u001b[1;33m\u001b[0m\u001b[1;33m\u001b[0m\u001b[0m\n",
      "\u001b[1;31mNameError\u001b[0m: name 'globalv' is not defined"
     ]
    }
   ],
   "source": [
    "# Python's scope is similar to any language except that it can access global variables\n",
    "# via the 'global' modifier\n",
    "# Global variable\n",
    "globalV = 3\n",
    "\n",
    "def method4():\n",
    "    # globalv is not defined\n",
    "    print(globalv) #v not V\n",
    "\n",
    "def method5():\n",
    "    # Local variable\n",
    "    global localVar #this now makes the local variable golbal and can be accessed outside\n",
    "    localVar = \"Local Variable\"\n",
    "    global globalV\n",
    "    #globalV= 15 #will change the value of the global variable only if we mention global right before it (above)\n",
    "    print(globalV)\n",
    "\n",
    "\n",
    "method5()\n",
    "print(localVar)\n",
    "# Notice how the previous function runs and the next line gives an error\n",
    "method4()"
   ]
  },
  {
   "cell_type": "code",
   "execution_count": null,
   "metadata": {},
   "outputs": [],
   "source": [
    "# Strict typing cannot be done in python\n",
    "# Python debuggers work via the pdb module\n",
    "# Reference found at https://docs.python.org/2/library/pdb.html"
   ]
  }
 ],
 "metadata": {
  "kernelspec": {
   "display_name": "Python 3",
   "language": "python",
   "name": "python3"
  },
  "language_info": {
   "codemirror_mode": {
    "name": "ipython",
    "version": 3
   },
   "file_extension": ".py",
   "mimetype": "text/x-python",
   "name": "python",
   "nbconvert_exporter": "python",
   "pygments_lexer": "ipython3",
   "version": "3.8.5"
  }
 },
 "nbformat": 4,
 "nbformat_minor": 4
}
